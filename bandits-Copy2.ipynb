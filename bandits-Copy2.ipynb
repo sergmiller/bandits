{
 "cells": [
  {
   "cell_type": "code",
   "execution_count": 1,
   "metadata": {},
   "outputs": [
    {
     "name": "stdout",
     "output_type": "stream",
     "text": [
      "Loading environment football failed: No module named 'gfootball'\n"
     ]
    }
   ],
   "source": [
    "from kaggle_environments import make\n",
    "from scipy.stats import norm\n",
    "\n",
    "import hyperopt\n",
    "import numpy as np\n",
    "import os\n",
    "if not os.path.exists('tmp'):\n",
    "    os.mkdir('tmp')\n",
    "    \n",
    "base_path = '/Users/sergmiller/Documents/my/bandits'"
   ]
  },
  {
   "cell_type": "code",
   "execution_count": 2,
   "metadata": {},
   "outputs": [],
   "source": [
    "from utils.bandits import Agent, init_agent, \\\n",
    "    compare, gittins_bb_delta, init_template, neural, gittins_with_random, bench"
   ]
  },
  {
   "cell_type": "code",
   "execution_count": 46,
   "metadata": {},
   "outputs": [],
   "source": [
    "from importlib import reload\n",
    "import utils\n",
    "reload(utils)\n",
    "reload(utils.bandits)\n",
    "from utils.bandits import exact_gittins"
   ]
  },
  {
   "cell_type": "code",
   "execution_count": 4,
   "metadata": {
    "scrolled": true
   },
   "outputs": [
    {
     "data": {
      "text/plain": [
       "(0.004648520752065718,\n",
       " 24.5,\n",
       " 27.37243138634199,\n",
       " array([656., 634., 666., 634., 579., 717., 657., 650., 572., 572.]),\n",
       " array([611., 647., 619., 589., 524., 684., 629., 612., 598., 579.]))"
      ]
     },
     "execution_count": 4,
     "metadata": {},
     "output_type": "execute_result"
    }
   ],
   "source": [
    "compare(Agent(text=utils.bandits.exact_gittins), Agent(text=gittins_with_random))"
   ]
  },
  {
   "cell_type": "code",
   "execution_count": 7,
   "metadata": {},
   "outputs": [
    {
     "data": {
      "text/plain": [
       "(2.3276030960020468e-08,\n",
       " 27.9,\n",
       " 15.795252451290546,\n",
       " array([720., 583., 663., 641., 551., 640., 678., 653., 659., 673.]),\n",
       " array([699., 551., 641., 610., 520., 649., 661., 614., 610., 627.]))"
      ]
     },
     "execution_count": 7,
     "metadata": {},
     "output_type": "execute_result"
    }
   ],
   "source": [
    "compare(\n",
    "    Agent(text=utils.bandits.exact_gittins_with_my_and_count_rival_drift.format(\"decay=0.03\")),\n",
    "    Agent(text=gittins_with_random)\n",
    ")"
   ]
  },
  {
   "cell_type": "code",
   "execution_count": 12,
   "metadata": {},
   "outputs": [
    {
     "data": {
      "text/plain": [
       "(0.1764349031503316,\n",
       " -5.38,\n",
       " 28.141705705234003,\n",
       " array([716., 667., 629., 678., 704., 651., 629., 566., 598., 648., 635.,\n",
       "        634., 624., 570., 598., 614., 660., 659., 628., 642., 611., 603.,\n",
       "        617., 580., 669., 642., 650., 725., 578., 619., 587., 587., 613.,\n",
       "        667., 676., 638., 586., 560., 619., 626., 682., 594., 622., 622.,\n",
       "        634., 602., 613., 646., 647., 630.]),\n",
       " array([707., 629., 626., 691., 728., 654., 638., 565., 604., 637., 626.,\n",
       "        662., 580., 586., 592., 625., 668., 703., 668., 692., 573., 611.,\n",
       "        683., 626., 658., 628., 629., 755., 619., 643., 635., 642., 626.,\n",
       "        629., 688., 632., 599., 573., 610., 595., 650., 595., 601., 676.,\n",
       "        664., 552., 585., 634., 651., 621.]))"
      ]
     },
     "execution_count": 12,
     "metadata": {},
     "output_type": "execute_result"
    }
   ],
   "source": [
    "compare(\n",
    "    Agent(text=utils.bandits.exact_gittins_with_my_and_count_rival_drift.format(\"decay=0.03\")),\n",
    "    Agent(file='/Users/sergmiller/Documents/my/bandits/kernels/thompson.py'), T=50\n",
    ")"
   ]
  },
  {
   "cell_type": "code",
   "execution_count": 8,
   "metadata": {},
   "outputs": [
    {
     "data": {
      "text/plain": [
       "(0.02917153861564571,\n",
       " 18.4,\n",
       " 26.6765814901385,\n",
       " array([634., 641., 680., 660., 669., 633., 628., 606., 677., 620.]),\n",
       " array([615., 618., 641., 604., 610., 622., 659., 608., 685., 602.]))"
      ]
     },
     "execution_count": 8,
     "metadata": {},
     "output_type": "execute_result"
    }
   ],
   "source": [
    "compare(\n",
    "    Agent(text=neural),\n",
    "    Agent(file='/Users/sergmiller/Documents/my/bandits/kernels/thompson.py')\n",
    ")"
   ]
  },
  {
   "cell_type": "code",
   "execution_count": 9,
   "metadata": {},
   "outputs": [
    {
     "data": {
      "text/plain": [
       "(0.07425523842219167,\n",
       " 12.1,\n",
       " 21.43571785595248,\n",
       " array([641., 582., 639., 584., 592., 620., 655., 605., 670., 619.]),\n",
       " array([628., 584., 626., 576., 630., 572., 639., 598., 638., 595.]))"
      ]
     },
     "execution_count": 9,
     "metadata": {},
     "output_type": "execute_result"
    }
   ],
   "source": [
    "compare(\n",
    "    Agent(text=utils.bandits.exact_gittins_with_my_and_count_rival_drift.format(\"decay=0.03\")),\n",
    "    Agent(text=neural)\n",
    ")"
   ]
  },
  {
   "cell_type": "code",
   "execution_count": 15,
   "metadata": {},
   "outputs": [
    {
     "data": {
      "text/plain": [
       "'tmp/b_0.5812310031940234.py'"
      ]
     },
     "execution_count": 15,
     "metadata": {},
     "output_type": "execute_result"
    }
   ],
   "source": [
    "a = Agent(text=utils.bandits.exact_gittins_with_my_and_count_rival_drift)\n",
    "init_agent(a)\n",
    "a.file"
   ]
  },
  {
   "cell_type": "code",
   "execution_count": 16,
   "metadata": {},
   "outputs": [
    {
     "name": "stdout",
     "output_type": "stream",
     "text": [
      "['gittins', (0.020986698049977895, 14.3, 19.59106939398664)]\n",
      "['gittins_with_random', (0.15807235983080392, 11.9, 26.658769664033635)]\n",
      "['gittins_with_count_my', (0.6660084920493266, -3.7, 27.10737906917598)]\n",
      "['gittins_with_count_rival_drift', (0.01869799440970269, 30.1, 40.47826577312818)]\n",
      "['gittins_with_my_and_count_rival_drift', (0.9580712014743338, 0.3, 18.044666802132976)]\n",
      "['gittins_bb', (0.007737945727551424, 23.1, 27.427905497868405)]\n",
      "['gittins_bb_delta', (0.5962530712266272, -3.9, 23.278530881479615)]\n",
      "['softmax_ucb', (0.0001271960961194171, 26.0, 21.45693361130616)]\n",
      "['multiarmed_bandit_agent', (0.17846353458821285, 13.4, 31.493491391079523)]\n",
      "['upper_confidence', (5.82610972839857e-17, 114.2, 43.15275194005592)]\n",
      "['ucb_decay', (0.5051202363556915, 7.0, 33.214454684670045)]\n",
      "['bayesian_ucb', (0.0018612734514125444, -23.0, 23.375200533899168)]\n",
      "['thompson', (0.10523248484614844, -11.8, 23.03388807822075)]\n",
      "['neural', (0.3706954653292832, -9.5, 33.55964838909967)]\n",
      "<string>:82: RuntimeWarning: invalid value encountered in true_divide\n",
      "<string>:82: RuntimeWarning: invalid value encountered in true_divide\n",
      "<string>:82: RuntimeWarning: invalid value encountered in true_divide\n",
      "<string>:82: RuntimeWarning: invalid value encountered in true_divide\n",
      "<string>:82: RuntimeWarning: invalid value encountered in true_divide\n",
      "<string>:82: RuntimeWarning: invalid value encountered in true_divide\n",
      "<string>:82: RuntimeWarning: invalid value encountered in true_divide\n",
      "<string>:82: RuntimeWarning: invalid value encountered in true_divide\n",
      "<string>:82: RuntimeWarning: invalid value encountered in true_divide\n",
      "<string>:82: RuntimeWarning: invalid value encountered in true_divide\n",
      "['optimized_ucb', (2.1723136104811743e-11, 54.4, 25.699027218943524)]\n",
      "['exact_gittins', (0.42151473544926055, -7.3, 28.719505566774647)]\n"
     ]
    },
    {
     "data": {
      "text/plain": [
       "[['gittins', (0.020986698049977895, 14.3, 19.59106939398664)],\n",
       " ['gittins_with_random', (0.15807235983080392, 11.9, 26.658769664033635)],\n",
       " ['gittins_with_count_my', (0.6660084920493266, -3.7, 27.10737906917598)],\n",
       " ['gittins_with_count_rival_drift',\n",
       "  (0.01869799440970269, 30.1, 40.47826577312818)],\n",
       " ['gittins_with_my_and_count_rival_drift',\n",
       "  (0.9580712014743338, 0.3, 18.044666802132976)],\n",
       " ['gittins_bb', (0.007737945727551424, 23.1, 27.427905497868405)],\n",
       " ['gittins_bb_delta', (0.5962530712266272, -3.9, 23.278530881479615)],\n",
       " ['softmax_ucb', (0.0001271960961194171, 26.0, 21.45693361130616)],\n",
       " ['multiarmed_bandit_agent', (0.17846353458821285, 13.4, 31.493491391079523)],\n",
       " ['upper_confidence', (5.82610972839857e-17, 114.2, 43.15275194005592)],\n",
       " ['ucb_decay', (0.5051202363556915, 7.0, 33.214454684670045)],\n",
       " ['bayesian_ucb', (0.0018612734514125444, -23.0, 23.375200533899168)],\n",
       " ['thompson', (0.10523248484614844, -11.8, 23.03388807822075)],\n",
       " ['neural', (0.3706954653292832, -9.5, 33.55964838909967)],\n",
       " ['optimized_ucb', (2.1723136104811743e-11, 54.4, 25.699027218943524)],\n",
       " ['exact_gittins', (0.42151473544926055, -7.3, 28.719505566774647)]]"
      ]
     },
     "execution_count": 16,
     "metadata": {},
     "output_type": "execute_result"
    }
   ],
   "source": [
    "bench(a)"
   ]
  },
  {
   "cell_type": "code",
   "execution_count": null,
   "metadata": {},
   "outputs": [],
   "source": [
    "a = Agent(text=utils.bandits.exact_gittins_with_my_and_count_rival_drift.format(\"decay=0.03\"))\n",
    "init_agent(a)\n",
    "a.file\n",
    "\n",
    "bench(a)"
   ]
  },
  {
   "cell_type": "code",
   "execution_count": 20,
   "metadata": {},
   "outputs": [
    {
     "name": "stdout",
     "output_type": "stream",
     "text": [
      "tmp/b_0.6698981319746636.py\n",
      "['gittins', (0.0070556045568421835, 23.7, 27.817440572417873)]\n",
      "['gittins_with_random', (0.04412062421763874, 27.1, 42.57334847061011)]\n",
      "['gittins_with_count_my', (0.25099289960537385, -9.7, 26.720965551416736)]\n",
      "['gittins_with_count_rival_drift', (0.04259029267837131, 25.7, 40.08004491015448)]\n",
      "['gittins_with_my_and_count_rival_drift', (0.5166336434853575, -3.4, 16.578299068360423)]\n",
      "['gittins_bb', (0.5320094981546408, -4.7, 23.782556632961054)]\n",
      "['gittins_bb_delta', (0.002768822035859739, -19.3, 20.39632319806685)]\n",
      "['softmax_ucb', (0.04150945267886, 19.7, 30.56157718443209)]\n",
      "['multiarmed_bandit_agent', (0.17437960669542285, -12.4, 28.86936092122581)]\n",
      "['upper_confidence', (3.467615329731626e-31, 108.4, 29.513386793114748)]\n",
      "['ucb_decay', (0.0005200056109070572, 14.1, 12.848735346328837)]\n",
      "['bayesian_ucb', (0.009494949012238142, -27.1, 33.04073243740217)]\n",
      "['thompson', (0.005615350124280827, -24.0, 27.40437921208944)]\n",
      "['neural', (0.0024994871875276574, -23.9, 24.99779990319148)]\n",
      "<string>:82: RuntimeWarning: invalid value encountered in true_divide\n",
      "<string>:82: RuntimeWarning: invalid value encountered in true_divide\n",
      "<string>:82: RuntimeWarning: invalid value encountered in true_divide\n",
      "<string>:82: RuntimeWarning: invalid value encountered in true_divide\n",
      "<string>:82: RuntimeWarning: invalid value encountered in true_divide\n",
      "<string>:82: RuntimeWarning: invalid value encountered in true_divide\n",
      "<string>:82: RuntimeWarning: invalid value encountered in true_divide\n",
      "<string>:82: RuntimeWarning: invalid value encountered in true_divide\n",
      "<string>:82: RuntimeWarning: invalid value encountered in true_divide\n",
      "<string>:82: RuntimeWarning: invalid value encountered in true_divide\n",
      "['optimized_ucb', (3.195248450844315e-05, 41.6, 31.62973284743328)]\n",
      "['exact_gittins', (0.5269128803150158, -7.5, 37.48399658520953)]\n"
     ]
    },
    {
     "data": {
      "text/plain": [
       "[['gittins', (0.0070556045568421835, 23.7, 27.817440572417873)],\n",
       " ['gittins_with_random', (0.04412062421763874, 27.1, 42.57334847061011)],\n",
       " ['gittins_with_count_my', (0.25099289960537385, -9.7, 26.720965551416736)],\n",
       " ['gittins_with_count_rival_drift',\n",
       "  (0.04259029267837131, 25.7, 40.08004491015448)],\n",
       " ['gittins_with_my_and_count_rival_drift',\n",
       "  (0.5166336434853575, -3.4, 16.578299068360423)],\n",
       " ['gittins_bb', (0.5320094981546408, -4.7, 23.782556632961054)],\n",
       " ['gittins_bb_delta', (0.002768822035859739, -19.3, 20.39632319806685)],\n",
       " ['softmax_ucb', (0.04150945267886, 19.7, 30.56157718443209)],\n",
       " ['multiarmed_bandit_agent', (0.17437960669542285, -12.4, 28.86936092122581)],\n",
       " ['upper_confidence', (3.467615329731626e-31, 108.4, 29.513386793114748)],\n",
       " ['ucb_decay', (0.0005200056109070572, 14.1, 12.848735346328837)],\n",
       " ['bayesian_ucb', (0.009494949012238142, -27.1, 33.04073243740217)],\n",
       " ['thompson', (0.005615350124280827, -24.0, 27.40437921208944)],\n",
       " ['neural', (0.0024994871875276574, -23.9, 24.99779990319148)],\n",
       " ['optimized_ucb', (3.195248450844315e-05, 41.6, 31.62973284743328)],\n",
       " ['exact_gittins', (0.5269128803150158, -7.5, 37.48399658520953)]]"
      ]
     },
     "execution_count": 20,
     "metadata": {},
     "output_type": "execute_result"
    }
   ],
   "source": [
    "a = Agent(text=utils.bandits.exact_gittins_with_my_and_count_rival_drift.format(\"decay,rival_drift=0.03,-0.001\"))\n",
    "init_agent(a)\n",
    "print(a.file)\n",
    "\n",
    "bench(a)"
   ]
  },
  {
   "cell_type": "code",
   "execution_count": 44,
   "metadata": {},
   "outputs": [
    {
     "data": {
      "text/plain": [
       "(0.9332597025183905,\n",
       " -0.5,\n",
       " 26.701123571864912,\n",
       " array([604., 633., 672., 631., 641., 651., 570., 580., 654., 644., 552.,\n",
       "        646., 705., 635., 699., 582., 591., 599., 600., 614.]),\n",
       " array([650., 653., 675., 646., 576., 636., 572., 591., 646., 649., 594.,\n",
       "        619., 673., 632., 713., 632., 578., 588., 583., 607.]))"
      ]
     },
     "execution_count": 44,
     "metadata": {},
     "output_type": "execute_result"
    }
   ],
   "source": [
    "compare(\n",
    "    Agent(file='/Users/sergmiller/Documents/my/bandits/kernels/thompson.py'),\n",
    "    Agent(text=neural),\n",
    "    T=20\n",
    ")"
   ]
  },
  {
   "cell_type": "code",
   "execution_count": 47,
   "metadata": {},
   "outputs": [
    {
     "name": "stdout",
     "output_type": "stream",
     "text": [
      "tmp/b_0.23472610887543255.py\n"
     ]
    },
    {
     "data": {
      "text/plain": [
       "(0.3305564893681603,\n",
       " 10.3,\n",
       " 33.47551343893025,\n",
       " array([673., 612., 620., 627., 619., 636., 621., 652., 700., 603.]),\n",
       " array([662., 649., 576., 633., 640., 585., 605., 601., 665., 644.]))"
      ]
     },
     "execution_count": 47,
     "metadata": {},
     "output_type": "execute_result"
    }
   ],
   "source": [
    "a = Agent(text=utils.bandits.neural_with_new_feature)\n",
    "init_agent(a)\n",
    "print(a.file)\n",
    "\n",
    "compare(\n",
    "    a,\n",
    "    Agent(text=neural),\n",
    "    T=10\n",
    ")"
   ]
  },
  {
   "cell_type": "code",
   "execution_count": 48,
   "metadata": {},
   "outputs": [
    {
     "name": "stdout",
     "output_type": "stream",
     "text": [
      "['gittins', (1.6938640196923583e-10, 40.9, 20.25067900096192)]\n",
      "['gittins_with_random', (0.052672869607180664, 26.3, 42.923303693914335)]\n",
      "['gittins_with_count_my', (0.03200258150073675, 12.9, 19.02340663498523)]\n",
      "['gittins_with_count_rival_drift', (6.017970810148189e-06, 30.0, 20.961870145576228)]\n",
      "['gittins_with_my_and_count_rival_drift', (0.0008999073004778537, 23.1, 22.002045359466017)]\n",
      "['gittins_bb', (0.40613713755483416, 5.6, 21.317598363793234)]\n",
      "['gittins_bb_delta', (0.9581997736625133, 0.5, 30.16703498854337)]\n",
      "['softmax_ucb', (1.0467690209347524e-05, 31.9, 22.88864347225497)]\n",
      "['multiarmed_bandit_agent', (0.0709880063216172, 16.8, 29.42379989056478)]\n",
      "['upper_confidence', (1.9599021635144304e-179, 145.7, 16.131026005806326)]\n",
      "['ucb_decay', (0.00020299463049364502, 29.1, 24.768730286391346)]\n",
      "['bayesian_ucb', (0.2935579760577147, -6.6, 19.87058126980688)]\n",
      "['thompson', (0.8865350313680469, 1.1, 24.37806390999909)]\n",
      "['neural', (0.3520256594239479, -5.5, 18.688231591030757)]\n",
      "<string>:82: RuntimeWarning: invalid value encountered in true_divide\n",
      "<string>:82: RuntimeWarning: invalid value encountered in true_divide\n",
      "<string>:82: RuntimeWarning: invalid value encountered in true_divide\n",
      "<string>:82: RuntimeWarning: invalid value encountered in true_divide\n",
      "<string>:82: RuntimeWarning: invalid value encountered in true_divide\n",
      "<string>:82: RuntimeWarning: invalid value encountered in true_divide\n",
      "<string>:82: RuntimeWarning: invalid value encountered in true_divide\n",
      "<string>:82: RuntimeWarning: invalid value encountered in true_divide\n",
      "<string>:82: RuntimeWarning: invalid value encountered in true_divide\n",
      "<string>:82: RuntimeWarning: invalid value encountered in true_divide\n",
      "['optimized_ucb', (3.872314051679252e-11, 75.1, 35.934523789804146)]\n",
      "['exact_gittins', (0.8507135237370139, 2.3, 38.644663279681964)]\n"
     ]
    },
    {
     "data": {
      "text/plain": [
       "[['gittins', (1.6938640196923583e-10, 40.9, 20.25067900096192)],\n",
       " ['gittins_with_random', (0.052672869607180664, 26.3, 42.923303693914335)],\n",
       " ['gittins_with_count_my', (0.03200258150073675, 12.9, 19.02340663498523)],\n",
       " ['gittins_with_count_rival_drift',\n",
       "  (6.017970810148189e-06, 30.0, 20.961870145576228)],\n",
       " ['gittins_with_my_and_count_rival_drift',\n",
       "  (0.0008999073004778537, 23.1, 22.002045359466017)],\n",
       " ['gittins_bb', (0.40613713755483416, 5.6, 21.317598363793234)],\n",
       " ['gittins_bb_delta', (0.9581997736625133, 0.5, 30.16703498854337)],\n",
       " ['softmax_ucb', (1.0467690209347524e-05, 31.9, 22.88864347225497)],\n",
       " ['multiarmed_bandit_agent', (0.0709880063216172, 16.8, 29.42379989056478)],\n",
       " ['upper_confidence', (1.9599021635144304e-179, 145.7, 16.131026005806326)],\n",
       " ['ucb_decay', (0.00020299463049364502, 29.1, 24.768730286391346)],\n",
       " ['bayesian_ucb', (0.2935579760577147, -6.6, 19.87058126980688)],\n",
       " ['thompson', (0.8865350313680469, 1.1, 24.37806390999909)],\n",
       " ['neural', (0.3520256594239479, -5.5, 18.688231591030757)],\n",
       " ['optimized_ucb', (3.872314051679252e-11, 75.1, 35.934523789804146)],\n",
       " ['exact_gittins', (0.8507135237370139, 2.3, 38.644663279681964)]]"
      ]
     },
     "execution_count": 48,
     "metadata": {},
     "output_type": "execute_result"
    }
   ],
   "source": [
    "bench(a)"
   ]
  },
  {
   "cell_type": "code",
   "execution_count": null,
   "metadata": {},
   "outputs": [],
   "source": []
  }
 ],
 "metadata": {
  "kernelspec": {
   "display_name": "Python 3",
   "language": "python",
   "name": "python3"
  },
  "language_info": {
   "codemirror_mode": {
    "name": "ipython",
    "version": 3
   },
   "file_extension": ".py",
   "mimetype": "text/x-python",
   "name": "python",
   "nbconvert_exporter": "python",
   "pygments_lexer": "ipython3",
   "version": "3.9.0"
  }
 },
 "nbformat": 4,
 "nbformat_minor": 4
}
