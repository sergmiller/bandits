{
 "cells": [
  {
   "cell_type": "code",
   "execution_count": 1,
   "metadata": {},
   "outputs": [
    {
     "name": "stdout",
     "output_type": "stream",
     "text": [
      "Loading environment football failed: No module named 'gfootball'\n"
     ]
    }
   ],
   "source": [
    "from kaggle_environments import make\n",
    "from scipy.stats import norm\n",
    "\n",
    "import hyperopt\n",
    "import numpy as np\n",
    "import os\n",
    "if not os.path.exists('tmp'):\n",
    "    os.mkdir('tmp')\n",
    "    \n",
    "base_path = '/Users/sergmiller/Documents/my/bandits'"
   ]
  },
  {
   "cell_type": "code",
   "execution_count": 2,
   "metadata": {},
   "outputs": [],
   "source": [
    "from utils.bandits import Agent, init_agent, \\\n",
    "    compare, gittins_bb_delta, init_template, gittins_with_random, bench"
   ]
  },
  {
   "cell_type": "code",
   "execution_count": 95,
   "metadata": {},
   "outputs": [],
   "source": [
    "from importlib import reload\n",
    "import utils\n",
    "reload(utils)\n",
    "reload(utils.bandits)\n",
    "from utils.bandits import exact_gittins"
   ]
  },
  {
   "cell_type": "code",
   "execution_count": 4,
   "metadata": {
    "scrolled": true
   },
   "outputs": [
    {
     "data": {
      "text/plain": [
       "(0.004648520752065718,\n",
       " 24.5,\n",
       " 27.37243138634199,\n",
       " array([656., 634., 666., 634., 579., 717., 657., 650., 572., 572.]),\n",
       " array([611., 647., 619., 589., 524., 684., 629., 612., 598., 579.]))"
      ]
     },
     "execution_count": 4,
     "metadata": {},
     "output_type": "execute_result"
    }
   ],
   "source": [
    "compare(Agent(text=utils.bandits.exact_gittins), Agent(text=gittins_with_random))"
   ]
  },
  {
   "cell_type": "code",
   "execution_count": 7,
   "metadata": {},
   "outputs": [
    {
     "data": {
      "text/plain": [
       "(2.3276030960020468e-08,\n",
       " 27.9,\n",
       " 15.795252451290546,\n",
       " array([720., 583., 663., 641., 551., 640., 678., 653., 659., 673.]),\n",
       " array([699., 551., 641., 610., 520., 649., 661., 614., 610., 627.]))"
      ]
     },
     "execution_count": 7,
     "metadata": {},
     "output_type": "execute_result"
    }
   ],
   "source": [
    "compare(\n",
    "    Agent(text=utils.bandits.exact_gittins_with_my_and_count_rival_drift.format(\"decay=0.03\")),\n",
    "    Agent(text=gittins_with_random)\n",
    ")"
   ]
  },
  {
   "cell_type": "code",
   "execution_count": 12,
   "metadata": {},
   "outputs": [
    {
     "data": {
      "text/plain": [
       "(0.1764349031503316,\n",
       " -5.38,\n",
       " 28.141705705234003,\n",
       " array([716., 667., 629., 678., 704., 651., 629., 566., 598., 648., 635.,\n",
       "        634., 624., 570., 598., 614., 660., 659., 628., 642., 611., 603.,\n",
       "        617., 580., 669., 642., 650., 725., 578., 619., 587., 587., 613.,\n",
       "        667., 676., 638., 586., 560., 619., 626., 682., 594., 622., 622.,\n",
       "        634., 602., 613., 646., 647., 630.]),\n",
       " array([707., 629., 626., 691., 728., 654., 638., 565., 604., 637., 626.,\n",
       "        662., 580., 586., 592., 625., 668., 703., 668., 692., 573., 611.,\n",
       "        683., 626., 658., 628., 629., 755., 619., 643., 635., 642., 626.,\n",
       "        629., 688., 632., 599., 573., 610., 595., 650., 595., 601., 676.,\n",
       "        664., 552., 585., 634., 651., 621.]))"
      ]
     },
     "execution_count": 12,
     "metadata": {},
     "output_type": "execute_result"
    }
   ],
   "source": [
    "compare(\n",
    "    Agent(text=utils.bandits.exact_gittins_with_my_and_count_rival_drift.format(\"decay=0.03\")),\n",
    "    Agent(file='/Users/sergmiller/Documents/my/bandits/kernels/thompson.py'), T=50\n",
    ")"
   ]
  },
  {
   "cell_type": "code",
   "execution_count": 8,
   "metadata": {},
   "outputs": [
    {
     "data": {
      "text/plain": [
       "(0.02917153861564571,\n",
       " 18.4,\n",
       " 26.6765814901385,\n",
       " array([634., 641., 680., 660., 669., 633., 628., 606., 677., 620.]),\n",
       " array([615., 618., 641., 604., 610., 622., 659., 608., 685., 602.]))"
      ]
     },
     "execution_count": 8,
     "metadata": {},
     "output_type": "execute_result"
    }
   ],
   "source": [
    "compare(\n",
    "    Agent(text=neural),\n",
    "    Agent(file='/Users/sergmiller/Documents/my/bandits/kernels/thompson.py')\n",
    ")"
   ]
  },
  {
   "cell_type": "code",
   "execution_count": 9,
   "metadata": {},
   "outputs": [
    {
     "data": {
      "text/plain": [
       "(0.07425523842219167,\n",
       " 12.1,\n",
       " 21.43571785595248,\n",
       " array([641., 582., 639., 584., 592., 620., 655., 605., 670., 619.]),\n",
       " array([628., 584., 626., 576., 630., 572., 639., 598., 638., 595.]))"
      ]
     },
     "execution_count": 9,
     "metadata": {},
     "output_type": "execute_result"
    }
   ],
   "source": [
    "compare(\n",
    "    Agent(text=utils.bandits.exact_gittins_with_my_and_count_rival_drift.format(\"decay=0.03\")),\n",
    "    Agent(text=neural)\n",
    ")"
   ]
  },
  {
   "cell_type": "code",
   "execution_count": 15,
   "metadata": {},
   "outputs": [
    {
     "data": {
      "text/plain": [
       "'tmp/b_0.5812310031940234.py'"
      ]
     },
     "execution_count": 15,
     "metadata": {},
     "output_type": "execute_result"
    }
   ],
   "source": [
    "a = Agent(text=utils.bandits.exact_gittins_with_my_and_count_rival_drift)\n",
    "init_agent(a)\n",
    "a.file"
   ]
  },
  {
   "cell_type": "code",
   "execution_count": 16,
   "metadata": {},
   "outputs": [
    {
     "name": "stdout",
     "output_type": "stream",
     "text": [
      "['gittins', (0.020986698049977895, 14.3, 19.59106939398664)]\n",
      "['gittins_with_random', (0.15807235983080392, 11.9, 26.658769664033635)]\n",
      "['gittins_with_count_my', (0.6660084920493266, -3.7, 27.10737906917598)]\n",
      "['gittins_with_count_rival_drift', (0.01869799440970269, 30.1, 40.47826577312818)]\n",
      "['gittins_with_my_and_count_rival_drift', (0.9580712014743338, 0.3, 18.044666802132976)]\n",
      "['gittins_bb', (0.007737945727551424, 23.1, 27.427905497868405)]\n",
      "['gittins_bb_delta', (0.5962530712266272, -3.9, 23.278530881479615)]\n",
      "['softmax_ucb', (0.0001271960961194171, 26.0, 21.45693361130616)]\n",
      "['multiarmed_bandit_agent', (0.17846353458821285, 13.4, 31.493491391079523)]\n",
      "['upper_confidence', (5.82610972839857e-17, 114.2, 43.15275194005592)]\n",
      "['ucb_decay', (0.5051202363556915, 7.0, 33.214454684670045)]\n",
      "['bayesian_ucb', (0.0018612734514125444, -23.0, 23.375200533899168)]\n",
      "['thompson', (0.10523248484614844, -11.8, 23.03388807822075)]\n",
      "['neural', (0.3706954653292832, -9.5, 33.55964838909967)]\n",
      "<string>:82: RuntimeWarning: invalid value encountered in true_divide\n",
      "<string>:82: RuntimeWarning: invalid value encountered in true_divide\n",
      "<string>:82: RuntimeWarning: invalid value encountered in true_divide\n",
      "<string>:82: RuntimeWarning: invalid value encountered in true_divide\n",
      "<string>:82: RuntimeWarning: invalid value encountered in true_divide\n",
      "<string>:82: RuntimeWarning: invalid value encountered in true_divide\n",
      "<string>:82: RuntimeWarning: invalid value encountered in true_divide\n",
      "<string>:82: RuntimeWarning: invalid value encountered in true_divide\n",
      "<string>:82: RuntimeWarning: invalid value encountered in true_divide\n",
      "<string>:82: RuntimeWarning: invalid value encountered in true_divide\n",
      "['optimized_ucb', (2.1723136104811743e-11, 54.4, 25.699027218943524)]\n",
      "['exact_gittins', (0.42151473544926055, -7.3, 28.719505566774647)]\n"
     ]
    },
    {
     "data": {
      "text/plain": [
       "[['gittins', (0.020986698049977895, 14.3, 19.59106939398664)],\n",
       " ['gittins_with_random', (0.15807235983080392, 11.9, 26.658769664033635)],\n",
       " ['gittins_with_count_my', (0.6660084920493266, -3.7, 27.10737906917598)],\n",
       " ['gittins_with_count_rival_drift',\n",
       "  (0.01869799440970269, 30.1, 40.47826577312818)],\n",
       " ['gittins_with_my_and_count_rival_drift',\n",
       "  (0.9580712014743338, 0.3, 18.044666802132976)],\n",
       " ['gittins_bb', (0.007737945727551424, 23.1, 27.427905497868405)],\n",
       " ['gittins_bb_delta', (0.5962530712266272, -3.9, 23.278530881479615)],\n",
       " ['softmax_ucb', (0.0001271960961194171, 26.0, 21.45693361130616)],\n",
       " ['multiarmed_bandit_agent', (0.17846353458821285, 13.4, 31.493491391079523)],\n",
       " ['upper_confidence', (5.82610972839857e-17, 114.2, 43.15275194005592)],\n",
       " ['ucb_decay', (0.5051202363556915, 7.0, 33.214454684670045)],\n",
       " ['bayesian_ucb', (0.0018612734514125444, -23.0, 23.375200533899168)],\n",
       " ['thompson', (0.10523248484614844, -11.8, 23.03388807822075)],\n",
       " ['neural', (0.3706954653292832, -9.5, 33.55964838909967)],\n",
       " ['optimized_ucb', (2.1723136104811743e-11, 54.4, 25.699027218943524)],\n",
       " ['exact_gittins', (0.42151473544926055, -7.3, 28.719505566774647)]]"
      ]
     },
     "execution_count": 16,
     "metadata": {},
     "output_type": "execute_result"
    }
   ],
   "source": [
    "bench(a)"
   ]
  },
  {
   "cell_type": "code",
   "execution_count": null,
   "metadata": {},
   "outputs": [],
   "source": [
    "a = Agent(text=utils.bandits.exact_gittins_with_my_and_count_rival_drift.format(\"decay=0.03\"))\n",
    "init_agent(a)\n",
    "a.file\n",
    "\n",
    "bench(a)"
   ]
  },
  {
   "cell_type": "code",
   "execution_count": 20,
   "metadata": {},
   "outputs": [
    {
     "name": "stdout",
     "output_type": "stream",
     "text": [
      "tmp/b_0.6698981319746636.py\n",
      "['gittins', (0.0070556045568421835, 23.7, 27.817440572417873)]\n",
      "['gittins_with_random', (0.04412062421763874, 27.1, 42.57334847061011)]\n",
      "['gittins_with_count_my', (0.25099289960537385, -9.7, 26.720965551416736)]\n",
      "['gittins_with_count_rival_drift', (0.04259029267837131, 25.7, 40.08004491015448)]\n",
      "['gittins_with_my_and_count_rival_drift', (0.5166336434853575, -3.4, 16.578299068360423)]\n",
      "['gittins_bb', (0.5320094981546408, -4.7, 23.782556632961054)]\n",
      "['gittins_bb_delta', (0.002768822035859739, -19.3, 20.39632319806685)]\n",
      "['softmax_ucb', (0.04150945267886, 19.7, 30.56157718443209)]\n",
      "['multiarmed_bandit_agent', (0.17437960669542285, -12.4, 28.86936092122581)]\n",
      "['upper_confidence', (3.467615329731626e-31, 108.4, 29.513386793114748)]\n",
      "['ucb_decay', (0.0005200056109070572, 14.1, 12.848735346328837)]\n",
      "['bayesian_ucb', (0.009494949012238142, -27.1, 33.04073243740217)]\n",
      "['thompson', (0.005615350124280827, -24.0, 27.40437921208944)]\n",
      "['neural', (0.0024994871875276574, -23.9, 24.99779990319148)]\n",
      "<string>:82: RuntimeWarning: invalid value encountered in true_divide\n",
      "<string>:82: RuntimeWarning: invalid value encountered in true_divide\n",
      "<string>:82: RuntimeWarning: invalid value encountered in true_divide\n",
      "<string>:82: RuntimeWarning: invalid value encountered in true_divide\n",
      "<string>:82: RuntimeWarning: invalid value encountered in true_divide\n",
      "<string>:82: RuntimeWarning: invalid value encountered in true_divide\n",
      "<string>:82: RuntimeWarning: invalid value encountered in true_divide\n",
      "<string>:82: RuntimeWarning: invalid value encountered in true_divide\n",
      "<string>:82: RuntimeWarning: invalid value encountered in true_divide\n",
      "<string>:82: RuntimeWarning: invalid value encountered in true_divide\n",
      "['optimized_ucb', (3.195248450844315e-05, 41.6, 31.62973284743328)]\n",
      "['exact_gittins', (0.5269128803150158, -7.5, 37.48399658520953)]\n"
     ]
    },
    {
     "data": {
      "text/plain": [
       "[['gittins', (0.0070556045568421835, 23.7, 27.817440572417873)],\n",
       " ['gittins_with_random', (0.04412062421763874, 27.1, 42.57334847061011)],\n",
       " ['gittins_with_count_my', (0.25099289960537385, -9.7, 26.720965551416736)],\n",
       " ['gittins_with_count_rival_drift',\n",
       "  (0.04259029267837131, 25.7, 40.08004491015448)],\n",
       " ['gittins_with_my_and_count_rival_drift',\n",
       "  (0.5166336434853575, -3.4, 16.578299068360423)],\n",
       " ['gittins_bb', (0.5320094981546408, -4.7, 23.782556632961054)],\n",
       " ['gittins_bb_delta', (0.002768822035859739, -19.3, 20.39632319806685)],\n",
       " ['softmax_ucb', (0.04150945267886, 19.7, 30.56157718443209)],\n",
       " ['multiarmed_bandit_agent', (0.17437960669542285, -12.4, 28.86936092122581)],\n",
       " ['upper_confidence', (3.467615329731626e-31, 108.4, 29.513386793114748)],\n",
       " ['ucb_decay', (0.0005200056109070572, 14.1, 12.848735346328837)],\n",
       " ['bayesian_ucb', (0.009494949012238142, -27.1, 33.04073243740217)],\n",
       " ['thompson', (0.005615350124280827, -24.0, 27.40437921208944)],\n",
       " ['neural', (0.0024994871875276574, -23.9, 24.99779990319148)],\n",
       " ['optimized_ucb', (3.195248450844315e-05, 41.6, 31.62973284743328)],\n",
       " ['exact_gittins', (0.5269128803150158, -7.5, 37.48399658520953)]]"
      ]
     },
     "execution_count": 20,
     "metadata": {},
     "output_type": "execute_result"
    }
   ],
   "source": [
    "a = Agent(text=utils.bandits.exact_gittins_with_my_and_count_rival_drift.format(\"decay,rival_drift=0.03,-0.001\"))\n",
    "init_agent(a)\n",
    "print(a.file)\n",
    "\n",
    "bench(a)"
   ]
  },
  {
   "cell_type": "code",
   "execution_count": 44,
   "metadata": {},
   "outputs": [
    {
     "data": {
      "text/plain": [
       "(0.9332597025183905,\n",
       " -0.5,\n",
       " 26.701123571864912,\n",
       " array([604., 633., 672., 631., 641., 651., 570., 580., 654., 644., 552.,\n",
       "        646., 705., 635., 699., 582., 591., 599., 600., 614.]),\n",
       " array([650., 653., 675., 646., 576., 636., 572., 591., 646., 649., 594.,\n",
       "        619., 673., 632., 713., 632., 578., 588., 583., 607.]))"
      ]
     },
     "execution_count": 44,
     "metadata": {},
     "output_type": "execute_result"
    }
   ],
   "source": [
    "compare(\n",
    "    Agent(file='/Users/sergmiller/Documents/my/bandits/kernels/thompson.py'),\n",
    "    Agent(text=neural),\n",
    "    T=20\n",
    ")"
   ]
  },
  {
   "cell_type": "code",
   "execution_count": 47,
   "metadata": {},
   "outputs": [
    {
     "name": "stdout",
     "output_type": "stream",
     "text": [
      "tmp/b_0.23472610887543255.py\n"
     ]
    },
    {
     "data": {
      "text/plain": [
       "(0.3305564893681603,\n",
       " 10.3,\n",
       " 33.47551343893025,\n",
       " array([673., 612., 620., 627., 619., 636., 621., 652., 700., 603.]),\n",
       " array([662., 649., 576., 633., 640., 585., 605., 601., 665., 644.]))"
      ]
     },
     "execution_count": 47,
     "metadata": {},
     "output_type": "execute_result"
    }
   ],
   "source": [
    "a = Agent(text=utils.bandits.neural_with_new_feature)\n",
    "init_agent(a)\n",
    "print(a.file)\n",
    "\n",
    "compare(\n",
    "    a,\n",
    "    Agent(text=neural),\n",
    "    T=10\n",
    ")"
   ]
  },
  {
   "cell_type": "code",
   "execution_count": 48,
   "metadata": {},
   "outputs": [
    {
     "name": "stdout",
     "output_type": "stream",
     "text": [
      "['gittins', (1.6938640196923583e-10, 40.9, 20.25067900096192)]\n",
      "['gittins_with_random', (0.052672869607180664, 26.3, 42.923303693914335)]\n",
      "['gittins_with_count_my', (0.03200258150073675, 12.9, 19.02340663498523)]\n",
      "['gittins_with_count_rival_drift', (6.017970810148189e-06, 30.0, 20.961870145576228)]\n",
      "['gittins_with_my_and_count_rival_drift', (0.0008999073004778537, 23.1, 22.002045359466017)]\n",
      "['gittins_bb', (0.40613713755483416, 5.6, 21.317598363793234)]\n",
      "['gittins_bb_delta', (0.9581997736625133, 0.5, 30.16703498854337)]\n",
      "['softmax_ucb', (1.0467690209347524e-05, 31.9, 22.88864347225497)]\n",
      "['multiarmed_bandit_agent', (0.0709880063216172, 16.8, 29.42379989056478)]\n",
      "['upper_confidence', (1.9599021635144304e-179, 145.7, 16.131026005806326)]\n",
      "['ucb_decay', (0.00020299463049364502, 29.1, 24.768730286391346)]\n",
      "['bayesian_ucb', (0.2935579760577147, -6.6, 19.87058126980688)]\n",
      "['thompson', (0.8865350313680469, 1.1, 24.37806390999909)]\n",
      "['neural', (0.3520256594239479, -5.5, 18.688231591030757)]\n",
      "<string>:82: RuntimeWarning: invalid value encountered in true_divide\n",
      "<string>:82: RuntimeWarning: invalid value encountered in true_divide\n",
      "<string>:82: RuntimeWarning: invalid value encountered in true_divide\n",
      "<string>:82: RuntimeWarning: invalid value encountered in true_divide\n",
      "<string>:82: RuntimeWarning: invalid value encountered in true_divide\n",
      "<string>:82: RuntimeWarning: invalid value encountered in true_divide\n",
      "<string>:82: RuntimeWarning: invalid value encountered in true_divide\n",
      "<string>:82: RuntimeWarning: invalid value encountered in true_divide\n",
      "<string>:82: RuntimeWarning: invalid value encountered in true_divide\n",
      "<string>:82: RuntimeWarning: invalid value encountered in true_divide\n",
      "['optimized_ucb', (3.872314051679252e-11, 75.1, 35.934523789804146)]\n",
      "['exact_gittins', (0.8507135237370139, 2.3, 38.644663279681964)]\n"
     ]
    },
    {
     "data": {
      "text/plain": [
       "[['gittins', (1.6938640196923583e-10, 40.9, 20.25067900096192)],\n",
       " ['gittins_with_random', (0.052672869607180664, 26.3, 42.923303693914335)],\n",
       " ['gittins_with_count_my', (0.03200258150073675, 12.9, 19.02340663498523)],\n",
       " ['gittins_with_count_rival_drift',\n",
       "  (6.017970810148189e-06, 30.0, 20.961870145576228)],\n",
       " ['gittins_with_my_and_count_rival_drift',\n",
       "  (0.0008999073004778537, 23.1, 22.002045359466017)],\n",
       " ['gittins_bb', (0.40613713755483416, 5.6, 21.317598363793234)],\n",
       " ['gittins_bb_delta', (0.9581997736625133, 0.5, 30.16703498854337)],\n",
       " ['softmax_ucb', (1.0467690209347524e-05, 31.9, 22.88864347225497)],\n",
       " ['multiarmed_bandit_agent', (0.0709880063216172, 16.8, 29.42379989056478)],\n",
       " ['upper_confidence', (1.9599021635144304e-179, 145.7, 16.131026005806326)],\n",
       " ['ucb_decay', (0.00020299463049364502, 29.1, 24.768730286391346)],\n",
       " ['bayesian_ucb', (0.2935579760577147, -6.6, 19.87058126980688)],\n",
       " ['thompson', (0.8865350313680469, 1.1, 24.37806390999909)],\n",
       " ['neural', (0.3520256594239479, -5.5, 18.688231591030757)],\n",
       " ['optimized_ucb', (3.872314051679252e-11, 75.1, 35.934523789804146)],\n",
       " ['exact_gittins', (0.8507135237370139, 2.3, 38.644663279681964)]]"
      ]
     },
     "execution_count": 48,
     "metadata": {},
     "output_type": "execute_result"
    }
   ],
   "source": [
    "bench(a)"
   ]
  },
  {
   "cell_type": "code",
   "execution_count": 52,
   "metadata": {},
   "outputs": [
    {
     "name": "stdout",
     "output_type": "stream",
     "text": [
      "tmp/b_0.007705609680770942.py\n"
     ]
    },
    {
     "data": {
      "text/plain": [
       "(0.6305495981081255,\n",
       " -2.8,\n",
       " 26.0357446599862,\n",
       " array([591., 604., 606., 588., 583., 575., 608., 663., 606., 613., 579.,\n",
       "        682., 639., 593., 534., 675., 638., 649., 661., 634.]),\n",
       " array([626., 611., 624., 567., 534., 596., 626., 651., 615., 591., 592.,\n",
       "        735., 663., 617., 566., 658., 607., 649., 625., 624.]))"
      ]
     },
     "execution_count": 52,
     "metadata": {},
     "output_type": "execute_result"
    }
   ],
   "source": [
    "a = Agent(text=utils.bandits.neural.format(\"\", \"baseline = thompson\"))\n",
    "init_agent(a)\n",
    "print(a.file)\n",
    "\n",
    "compare(\n",
    "    a,\n",
    "    Agent(text=neural),\n",
    "    T=20\n",
    ")"
   ]
  },
  {
   "cell_type": "code",
   "execution_count": 53,
   "metadata": {},
   "outputs": [
    {
     "name": "stdout",
     "output_type": "stream",
     "text": [
      "tmp/b_0.3044403776073804.py\n"
     ]
    },
    {
     "data": {
      "text/plain": [
       "(0.9713881701041046,\n",
       " 0.2,\n",
       " 24.93712092443713,\n",
       " array([622., 644., 586., 642., 639., 625., 629., 606., 675., 617., 665.,\n",
       "        596., 566., 644., 633., 618., 572., 664., 595., 610.]),\n",
       " array([640., 687., 570., 635., 677., 632., 637., 613., 670., 632., 617.,\n",
       "        594., 549., 597., 619., 604., 615., 634., 601., 621.]))"
      ]
     },
     "execution_count": 53,
     "metadata": {},
     "output_type": "execute_result"
    }
   ],
   "source": [
    "a = Agent(text=utils.bandits.neural.format(\"\", \"baseline = exact_gittins\"))\n",
    "init_agent(a)\n",
    "print(a.file)\n",
    "\n",
    "compare(\n",
    "    a,\n",
    "    Agent(text=neural),\n",
    "    T=20\n",
    ")"
   ]
  },
  {
   "cell_type": "code",
   "execution_count": 54,
   "metadata": {},
   "outputs": [
    {
     "name": "stdout",
     "output_type": "stream",
     "text": [
      "['gittins', (1.3482278820124438e-05, 32.3, 23.469341703592796)]\n",
      "['gittins_with_random', (0.0014739156930801886, 27.8, 27.64706132665821)]\n",
      "['gittins_with_count_my', (0.2136831927385785, 10.6, 26.956260868302934)]\n",
      "['gittins_with_count_rival_drift', (8.29899312396653e-05, 25.9, 20.81081449631417)]\n",
      "['gittins_with_my_and_count_rival_drift', (0.121311388580548, 7.7, 15.7165517846632)]\n",
      "['gittins_bb', (0.34724589261984773, 5.8, 19.513072541247826)]\n",
      "['gittins_bb_delta', (2.587106889569581e-05, 18.3, 13.755362590640786)]\n",
      "['softmax_ucb', (2.1965722857185216e-07, 46.5, 28.376927247325423)]\n",
      "['multiarmed_bandit_agent', (0.6320934299942775, -3.7, 24.437880431821412)]\n",
      "['upper_confidence', (8.884324421771018e-34, 139.8, 36.49328705392267)]\n",
      "['ucb_decay', (0.00014036633178158772, 34.8, 28.902595039200197)]\n",
      "['bayesian_ucb', (0.36864533480594686, -7.8, 27.436472076416823)]\n",
      "['thompson', (0.067679223272783, 15.5, 26.82629307228265)]\n",
      "['neural', (0.12006680285692949, -15.4, 31.327942798722038)]\n",
      "<string>:82: RuntimeWarning: invalid value encountered in true_divide\n",
      "<string>:82: RuntimeWarning: invalid value encountered in true_divide\n",
      "<string>:82: RuntimeWarning: invalid value encountered in true_divide\n",
      "<string>:82: RuntimeWarning: invalid value encountered in true_divide\n",
      "<string>:82: RuntimeWarning: invalid value encountered in true_divide\n",
      "<string>:82: RuntimeWarning: invalid value encountered in true_divide\n",
      "<string>:82: RuntimeWarning: invalid value encountered in true_divide\n",
      "<string>:82: RuntimeWarning: invalid value encountered in true_divide\n",
      "<string>:82: RuntimeWarning: invalid value encountered in true_divide\n",
      "<string>:82: RuntimeWarning: invalid value encountered in true_divide\n",
      "['optimized_ucb', (2.797435250212039e-07, 74.8, 46.04953854274764)]\n",
      "['exact_gittins', (0.4232070564442221, -6.3, 24.875891943807762)]\n"
     ]
    },
    {
     "data": {
      "text/plain": [
       "[['gittins', (1.3482278820124438e-05, 32.3, 23.469341703592796)],\n",
       " ['gittins_with_random', (0.0014739156930801886, 27.8, 27.64706132665821)],\n",
       " ['gittins_with_count_my', (0.2136831927385785, 10.6, 26.956260868302934)],\n",
       " ['gittins_with_count_rival_drift',\n",
       "  (8.29899312396653e-05, 25.9, 20.81081449631417)],\n",
       " ['gittins_with_my_and_count_rival_drift',\n",
       "  (0.121311388580548, 7.7, 15.7165517846632)],\n",
       " ['gittins_bb', (0.34724589261984773, 5.8, 19.513072541247826)],\n",
       " ['gittins_bb_delta', (2.587106889569581e-05, 18.3, 13.755362590640786)],\n",
       " ['softmax_ucb', (2.1965722857185216e-07, 46.5, 28.376927247325423)],\n",
       " ['multiarmed_bandit_agent', (0.6320934299942775, -3.7, 24.437880431821412)],\n",
       " ['upper_confidence', (8.884324421771018e-34, 139.8, 36.49328705392267)],\n",
       " ['ucb_decay', (0.00014036633178158772, 34.8, 28.902595039200197)],\n",
       " ['bayesian_ucb', (0.36864533480594686, -7.8, 27.436472076416823)],\n",
       " ['thompson', (0.067679223272783, 15.5, 26.82629307228265)],\n",
       " ['neural', (0.12006680285692949, -15.4, 31.327942798722038)],\n",
       " ['optimized_ucb', (2.797435250212039e-07, 74.8, 46.04953854274764)],\n",
       " ['exact_gittins', (0.4232070564442221, -6.3, 24.875891943807762)]]"
      ]
     },
     "execution_count": 54,
     "metadata": {},
     "output_type": "execute_result"
    }
   ],
   "source": [
    "bench(Agent(file='tmp/b_0.007705609680770942.py'))"
   ]
  },
  {
   "cell_type": "code",
   "execution_count": 56,
   "metadata": {},
   "outputs": [
    {
     "name": "stdout",
     "output_type": "stream",
     "text": [
      "tmp/b_0.33959486832463204.py\n"
     ]
    },
    {
     "data": {
      "text/plain": [
       "(0.6257020448138657,\n",
       " -3.35,\n",
       " 30.71363703633941,\n",
       " array([606., 678., 660., 605., 593., 619., 585., 588., 625., 627., 600.,\n",
       "        596., 605., 647., 655., 606., 566., 663., 709., 650.]),\n",
       " array([562., 642., 671., 616., 592., 627., 652., 620., 644., 662., 614.,\n",
       "        621., 638., 610., 685., 579., 582., 634., 661., 638.]))"
      ]
     },
     "execution_count": 56,
     "metadata": {},
     "output_type": "execute_result"
    }
   ],
   "source": [
    "a = Agent(text=utils.bandits.neural_with_new_feature.format(\"\", \"bucb\"))\n",
    "init_agent(a)\n",
    "print(a.file)\n",
    "\n",
    "compare(\n",
    "    a,\n",
    "    Agent(text=neural),\n",
    "    T=20\n",
    ")"
   ]
  },
  {
   "cell_type": "code",
   "execution_count": 58,
   "metadata": {},
   "outputs": [
    {
     "data": {
      "text/plain": [
       "(0.002198943481250541,\n",
       " -35.2,\n",
       " 36.353266703282664,\n",
       " array([591., 567., 647., 650., 615., 519., 582., 594., 617., 620.]),\n",
       " array([641., 627., 704., 592., 649., 584., 656., 620., 653., 628.]))"
      ]
     },
     "execution_count": 58,
     "metadata": {},
     "output_type": "execute_result"
    }
   ],
   "source": [
    "compare(\n",
    "    a,\n",
    "    Agent(file='/Users/sergmiller/Documents/my/bandits/kernels/bayesian_ucb.py'),\n",
    "    T=10\n",
    ")"
   ]
  },
  {
   "cell_type": "code",
   "execution_count": 61,
   "metadata": {},
   "outputs": [
    {
     "data": {
      "text/plain": [
       "(0.08647270751665442,\n",
       " 15.2,\n",
       " 28.038544898050613,\n",
       " array([598., 554., 630., 633., 667., 582., 611., 630., 665., 662.]),\n",
       " array([616., 536., 674., 608., 640., 566., 583., 597., 601., 659.]))"
      ]
     },
     "execution_count": 61,
     "metadata": {},
     "output_type": "execute_result"
    }
   ],
   "source": [
    "compare(\n",
    "    Agent(text=neural),\n",
    "    Agent(file='/Users/sergmiller/Documents/my/bandits/kernels/bayesian_ucb.py'),\n",
    "    T=10\n",
    ")"
   ]
  },
  {
   "cell_type": "code",
   "execution_count": 71,
   "metadata": {},
   "outputs": [
    {
     "data": {
      "text/plain": [
       "(0.7749767666710601,\n",
       " -2.35,\n",
       " 36.76312690726946,\n",
       " array([608., 706., 600., 657., 620., 654., 600., 644., 553., 622., 598.,\n",
       "        683., 641., 553., 675., 554., 675., 646., 600., 569.]),\n",
       " array([642., 659., 611., 666., 595., 604., 583., 648., 503., 673., 583.,\n",
       "        701., 592., 608., 632., 616., 697., 653., 649., 590.]))"
      ]
     },
     "execution_count": 71,
     "metadata": {},
     "output_type": "execute_result"
    }
   ],
   "source": [
    "compare(\n",
    "    Agent(text=utils.bandits.neural),\n",
    "    Agent(file='/Users/sergmiller/Documents/my/bandits/kernels/bayesian_ucb.py'),\n",
    "    T=20\n",
    ")"
   ]
  },
  {
   "cell_type": "code",
   "execution_count": 77,
   "metadata": {},
   "outputs": [
    {
     "data": {
      "text/plain": [
       "(0.674196059985329,\n",
       " -3.45,\n",
       " 36.70078337038598,\n",
       " array([614., 648., 654., 628., 576., 617., 677., 637., 621., 706., 588.,\n",
       "        646., 697., 605., 604., 667., 651., 644., 658., 639.]),\n",
       " array([614., 645., 609., 603., 613., 625., 705., 630., 609., 643., 650.,\n",
       "        628., 650., 654., 647., 633., 634., 713., 693., 648.]))"
      ]
     },
     "execution_count": 77,
     "metadata": {},
     "output_type": "execute_result"
    }
   ],
   "source": [
    "# remove bias decay before loss\n",
    "compare(\n",
    "    Agent(text=utils.bandits.neural),\n",
    "    Agent(file='/Users/sergmiller/Documents/my/bandits/kernels/bayesian_ucb.py'),\n",
    "    T=20\n",
    ")"
   ]
  },
  {
   "cell_type": "code",
   "execution_count": 89,
   "metadata": {},
   "outputs": [
    {
     "data": {
      "text/plain": [
       "(0.8562035082524957,\n",
       " -1.1,\n",
       " 19.196093352554836,\n",
       " array([630., 567., 704., 546., 620., 659., 649., 599., 678., 591.]),\n",
       " array([647., 567., 705., 571., 584., 689., 639., 586., 664., 602.]))"
      ]
     },
     "execution_count": 89,
     "metadata": {},
     "output_type": "execute_result"
    }
   ],
   "source": [
    "compare(\n",
    "    Agent(text=utils.bandits.neural),\n",
    "    Agent(file='/Users/sergmiller/Documents/my/bandits/kernels/bayesian_ucb.py'),\n",
    "    T=10\n",
    ")"
   ]
  },
  {
   "cell_type": "code",
   "execution_count": 96,
   "metadata": {},
   "outputs": [
    {
     "data": {
      "text/plain": [
       "(0.36280557914975653,\n",
       " 6.9,\n",
       " 23.97686384830176,\n",
       " array([638., 564., 684., 687., 674., 710., 656., 597., 620., 604.]),\n",
       " array([641., 587., 664., 675., 625., 684., 647., 621., 645., 576.]))"
      ]
     },
     "execution_count": 96,
     "metadata": {},
     "output_type": "execute_result"
    }
   ],
   "source": [
    "compare(\n",
    "    Agent(text=utils.bandits.neural),\n",
    "    Agent(file=utils.bandits.neural.format(\"top_negatives,negatives_weight=1,0\", \"\")),\n",
    "    T=10\n",
    ")"
   ]
  },
  {
   "cell_type": "code",
   "execution_count": 98,
   "metadata": {},
   "outputs": [
    {
     "data": {
      "text/plain": [
       "(0.25987824293310424,\n",
       " 8.95,\n",
       " 35.525307880439264,\n",
       " array([616., 608., 643., 577., 624., 658., 621., 682., 657., 674., 641.,\n",
       "        592., 585., 641., 615., 590., 662., 649., 703., 655.]),\n",
       " array([594., 595., 645., 565., 616., 580., 633., 653., 696., 703., 583.,\n",
       "        591., 642., 625., 627., 542., 719., 599., 669., 637.]))"
      ]
     },
     "execution_count": 98,
     "metadata": {},
     "output_type": "execute_result"
    }
   ],
   "source": [
    "compare(\n",
    "    Agent(text=utils.bandits.neural),\n",
    "    Agent(file=utils.bandits.neural.format(\"top_negatives,negatives_weight=1,0.1\", \"\")),\n",
    "    T=20\n",
    ")"
   ]
  },
  {
   "cell_type": "code",
   "execution_count": 99,
   "metadata": {},
   "outputs": [
    {
     "data": {
      "text/plain": [
       "(0.3496656734725794,\n",
       " -6.2,\n",
       " 29.64725956981522,\n",
       " array([636., 673., 677., 586., 659., 631., 688., 554., 603., 643., 602.,\n",
       "        576., 665., 537., 672., 604., 608., 570., 557., 596.]),\n",
       " array([651., 673., 669., 632., 655., 635., 676., 570., 563., 594., 642.,\n",
       "        615., 660., 523., 663., 670., 639., 597., 517., 617.]))"
      ]
     },
     "execution_count": 99,
     "metadata": {},
     "output_type": "execute_result"
    }
   ],
   "source": [
    "compare(\n",
    "    Agent(text=utils.bandits.neural),\n",
    "    Agent(file=utils.bandits.neural.format(\"top_negatives,negatives_weight=5,0.1\", \"\")),\n",
    "    T=20\n",
    ")"
   ]
  },
  {
   "cell_type": "code",
   "execution_count": 126,
   "metadata": {},
   "outputs": [],
   "source": [
    "def f_neural(input):\n",
    "    #input['hidden'] = int(input['hidden'])\n",
    "    print(input)\n",
    "    neural_custom = init_template(utils.bandits.neural.format(\"{}\",\"\"), input)\n",
    "    res = compare(Agent(text=utils.bandits.neural), Agent(text=neural_custom), T=10)[:3]\n",
    "    f_out = lambda mu, sigma: (mu + sigma) * ( 1 + (mu >= 0)) # since expect mu < 0\n",
    "    score = f_out(res[1], res[2])\n",
    "    print(score, res)\n",
    "    return score"
   ]
  },
  {
   "cell_type": "code",
   "execution_count": 127,
   "metadata": {
    "scrolled": true
   },
   "outputs": [
    {
     "name": "stdout",
     "output_type": "stream",
     "text": [
      "{'lr': 0.008070103624278242, 'negatives_weight': 2.226651317111342e-05, 'top_negatives': 19}\n",
      "153.7463294677202                                      \n",
      "(0.0030253923130460153, 37.2, 39.67316473386009)       \n",
      "{'lr': 0.006113891873304902, 'negatives_weight': 1.6567316911061993e-06, 'top_negatives': 18}\n",
      "27.01797299117399                                                                 \n",
      "(0.4451440814278852, -8.6, 35.61797299117399)                                     \n",
      "{'lr': 0.005887292915219309, 'negatives_weight': 2.003907865494522e-06, 'top_negatives': 14}\n",
      "114.22571776442625                                                                \n",
      "(0.03981814855025607, 22.5, 34.612858882213125)                                   \n",
      "{'lr': 0.0019209165876168416, 'negatives_weight': 0.12996532884746234, 'top_negatives': 16}\n",
      "75.84543940806594                                                                 \n",
      "(0.7247183141362814, 3.8, 34.122719704032974)                                     \n",
      "{'lr': 0.005446153359110792, 'negatives_weight': 1.946931701887656e-05, 'top_negatives': 22}\n",
      "170.63729137778802                                                                \n",
      "(0.022892762964426116, 35.7, 49.618645688894006)                                  \n",
      "{'lr': 0.002915756513998287, 'negatives_weight': 2.417110229992067, 'top_negatives': 10}\n",
      "286.81999861130396                                                                \n",
      "(0.0017156734078893762, 71.4, 72.00999930565199)                                  \n",
      "{'lr': 0.003288112853521298, 'negatives_weight': 0.8657989368123301, 'top_negatives': 12}\n",
      "207.07154353687417                                                                \n",
      "(0.0011419183102287648, 52.5, 51.03577176843709)                                  \n",
      "{'lr': 0.006744074837920325, 'negatives_weight': 2.049101226495606, 'top_negatives': 23}\n",
      "298.38767275824                                                                    \n",
      "(3.992032246017691e-05, 84.3, 64.89383637912002)                                   \n",
      "{'lr': 0.006220260627520347, 'negatives_weight': 4.508202501166714e-08, 'top_negatives': 13}\n",
      "183.16973453901812                                                                 \n",
      "(0.00022699804804085413, 49.3, 42.28486726950907)                                  \n",
      "{'lr': 0.005183705927302146, 'negatives_weight': 3.974460036239282e-06, 'top_negatives': 11}\n",
      "22.829227277284538                                                                 \n",
      "(0.29225277679505635, -11.4, 34.22922727728454)                                    \n",
      "{'lr': 0.009534867134626486, 'negatives_weight': 2.2092166994687092, 'top_negatives': 14}\n",
      "454.6485092661276                                                                    \n",
      "(4.6155232820461667e-07, 139.7, 87.62425463306379)                                   \n",
      "{'lr': 0.00812504583223975, 'negatives_weight': 8.367048576463186e-06, 'top_negatives': 11}\n",
      "105.7426192717144                                                                    \n",
      "(0.606812294948194, 7.4, 45.4713096358572)                                           \n",
      "{'lr': 0.00653421193716677, 'negatives_weight': 0.0009622473899328702, 'top_negatives': 11}\n",
      "178.03186050790376                                                                   \n",
      "(0.006198820798278741, 41.3, 47.71593025395188)                                      \n",
      "{'lr': 0.0071171650239909194, 'negatives_weight': 1.2040424229311947e-09, 'top_negatives': 16}\n",
      "123.39505483308298                                                                   \n",
      "(0.6809034869628962, 7.1, 54.59752741654149)                                         \n",
      "{'lr': 0.0013100130835407885, 'negatives_weight': 2.080318558484393e-05, 'top_negatives': 14}\n",
      "38.80748059901046                                                                    \n",
      "(0.9183609171634711, -1.3, 40.10748059901046)                                        \n",
      "{'lr': 0.0011284595619909833, 'negatives_weight': 0.49706277460683373, 'top_negatives': 22}\n",
      "9.074166647769363                                                                    \n",
      "(0.10947168071331775, -9.3, 18.374166647769364)                                      \n",
      "{'lr': 0.0046967450812566746, 'negatives_weight': 0.645197838484492, 'top_negatives': 13}\n",
      "114.78941094023392                                                                  \n",
      "(0.02950071414898902, 23.4, 33.99470547011696)                                      \n",
      "{'lr': 0.0011441144024924863, 'negatives_weight': 3.963662513883218e-06, 'top_negatives': 10}\n",
      "25.545713053800995                                                                  \n",
      "(0.34427200677668446, -10.9, 36.44571305380099)                                     \n",
      "{'lr': 0.0056505893701582, 'negatives_weight': 1.4761391267143295e-09, 'top_negatives': 14}\n",
      "137.41171785606673                                                                  \n",
      "(0.012600894382676886, 30.3, 38.40585892803336)                                     \n",
      "{'lr': 0.0012065516129347695, 'negatives_weight': 0.0023639805225030507, 'top_negatives': 19}\n",
      "54.62081190678098                                                                   \n",
      "(0.7179127719811853, 2.8, 24.51040595339049)                                        \n",
      "{'lr': 0.00384441992058377, 'negatives_weight': 0.011132310703205228, 'top_negatives': 15}\n",
      "133.3249727272691                                                                   \n",
      "(0.3544104003276417, 15.1, 51.56248636363456)                                       \n",
      "{'lr': 0.0020107690322426082, 'negatives_weight': 2.320396888317026e-08, 'top_negatives': 17}\n",
      "70.18686257847622                                                                   \n",
      "(0.12322690641544443, 11.5, 23.59343128923811)                                      \n",
      "{'lr': 0.0024280415221373404, 'negatives_weight': 1.6608288715261022e-07, 'top_negatives': 22}\n",
      "102.68865313966165                                                                  \n",
      "(0.05479829923091509, 19.4, 31.944326569830828)                                     \n",
      "{'lr': 0.004284868473492424, 'negatives_weight': 0.00023422685124696447, 'top_negatives': 21}\n",
      "52.167323269237016                                                                  \n",
      "(0.3241126017326401, 6.2, 19.88366163461851)                                        \n",
      "{'lr': 0.0015741451640960732, 'negatives_weight': 0.01310086331864777, 'top_negatives': 20}\n",
      "28.914261210478614                                                                  \n",
      "(0.6761959990114046, -4.4, 33.31426121047861)                                       \n",
      "{'lr': 0.003230682547933716, 'negatives_weight': 0.07274557152460018, 'top_negatives': 24}\n",
      "105.77651774335959                                                                  \n",
      "(0.09157984729387626, 18.4, 34.4882588716798)                                       \n",
      "{'lr': 0.002561431284039459, 'negatives_weight': 12.281561654806369, 'top_negatives': 22}\n",
      "525.6464301742205                                                                   \n",
      "(9.285098089716852e-06, 153.4, 109.42321508711028)                                  \n",
      "{'lr': 0.0038225443209094264, 'negatives_weight': 3.348532404425511e-07, 'top_negatives': 22}\n",
      "66.94428879035151                                                                   \n",
      "(0.3945697722244278, 7.1, 26.372144395175756)                                       \n",
      "{'lr': 0.007974217251911098, 'negatives_weight': 9.851442606185597e-05, 'top_negatives': 11}\n",
      "215.8412707112625                                                                   \n",
      "(0.006336568208608556, 50.0, 57.92063535563125)                                     \n",
      "{'lr': 0.00476336743877405, 'negatives_weight': 0.00013760863184532462, 'top_negatives': 20}\n",
      "174.78192850832232                                                                  \n",
      "(0.011957175153863598, 38.7, 48.69096425416116)                                     \n",
      "{'lr': 0.0015457271726853697, 'negatives_weight': 14.718862437598796, 'top_negatives': 18}\n",
      "495.1518712310433                                                                   \n",
      "(1.2163584957773399e-05, 143.7, 103.87593561552166)                                 \n",
      "{'lr': 0.00212063394125771, 'negatives_weight': 1.8042247753079622e-08, 'top_negatives': 12}\n",
      "21.48332892182782                                                                   \n",
      "(0.3151717550052875, -10.0, 31.48332892182782)                                      \n",
      "{'lr': 0.0017956305358210176, 'negatives_weight': 3.4416919228103356e-09, 'top_negatives': 17}\n",
      "47.05340729397916                                                                   \n",
      "(0.2683303311077051, 6.1, 17.42670364698958)                                        \n",
      "{'lr': 0.0010216878665672054, 'negatives_weight': 5.736851854034677e-07, 'top_negatives': 12}\n",
      "13.338948632734859                                                                  \n",
      "(0.14893087095451604, -11.2, 24.538948632734858)                                      \n",
      "{'lr': 0.0010089647348657603, 'negatives_weight': 9.157499597807316e-07, 'top_negatives': 12}\n",
      "47.36819110823046                                                                     \n",
      "(0.7705405297123822, 2.0, 21.68409555411523)                                          \n",
      "{'lr': 0.001418239318692533, 'negatives_weight': 0.03089960143498773, 'top_negatives': 12}\n",
      "68.69061712982061                                                                     \n",
      "(0.10229395640336163, 11.7, 22.645308564910305)                                       \n",
      "{'lr': 0.0010196570322035987, 'negatives_weight': 0.0013275165567618141, 'top_negatives': 23}\n",
      "49.06441435014588                                                                     \n",
      "(0.44174694664883396, 4.8, 19.73220717507294)                                         \n",
      "{'lr': 0.0011292717484730277, 'negatives_weight': 1.0991175535399475e-07, 'top_negatives': 15}\n",
      "4.048223871331528                                                                     \n",
      "(0.07791344419889283, -5.1, 9.148223871331528)                                        \n",
      "{'lr': 0.0018010678017975818, 'negatives_weight': 0.005216089921910763, 'top_negatives': 15}\n",
      "71.38270205016457                                                                     \n",
      "(0.6980663449890341, 3.9, 31.79135102508228)                                          \n",
      "{'lr': 0.001176935354161466, 'negatives_weight': 7.1519394967222686e-09, 'top_negatives': 15}\n",
      "69.0400467562669                                                                      \n",
      "(0.9778830423474075, 0.3, 34.220023378133455)                                         \n",
      "{'lr': 0.0027903986011323365, 'negatives_weight': 0.3781637287313321, 'top_negatives': 15}\n",
      "106.38099343184597                                                                    \n",
      "(0.5195487412738564, 9.0, 44.19049671592298)                                          \n",
      "{'lr': 0.002246711137749477, 'negatives_weight': 1.2763145206478257e-07, 'top_negatives': 21}\n",
      "74.21713030203455                                                                     \n",
      "(0.3474451561044588, 8.5, 28.608565151017274)                                         \n",
      "{'lr': 0.0015952670819955168, 'negatives_weight': 4.224227675391046e-05, 'top_negatives': 24}\n",
      "23.35657821268451                                                                     \n",
      "(0.5125587939071019, -6.1, 29.456578212684512)                                        \n",
      "{'lr': 0.00129507686980015, 'negatives_weight': 0.1917331495657232, 'top_negatives': 16}\n",
      "6.53571839237758                                                                      \n",
      "(0.04004952911057976, -12.1, 18.63571839237758)                                       \n",
      "{'lr': 0.0013799588451714445, 'negatives_weight': 0.07349671176213385, 'top_negatives': 16}\n",
      "92.02666271721951                                                                     \n",
      "(0.9439930669634041, 1.0, 45.013331358609754)                                         \n",
      "{'lr': 0.0017805811577380492, 'negatives_weight': 0.0003664504155269733, 'top_negatives': 16}\n",
      "95.0342019753281                                                                      \n",
      "(0.21901181158565286, 13.3, 34.21710098766405)                                        \n",
      "{'lr': 0.0013188501543920992, 'negatives_weight': 5.562708477755563, 'top_negatives': 16}\n",
      "352.53083403944413                                                                    \n",
      "(3.670558739655252e-05, 99.8, 76.46541701972207)                                      \n",
      "{'lr': 0.002941675836701632, 'negatives_weight': 8.55225303209495e-06, 'top_negatives': 19}\n",
      "77.94858816686991                                                                     \n",
      "(0.26229898009050556, 10.2, 28.774294083434953)                                       \n",
      "{'lr': 0.0010908873987781197, 'negatives_weight': 0.0005315573456639584, 'top_negatives': 18}\n",
      "85.9162818320686                                                                      \n",
      "(0.7589385066946983, 3.8, 39.158140916034306)                                         \n",
      "{'lr': 0.003549419544412141, 'negatives_weight': 2.7185027765214434e-06, 'top_negatives': 13}\n",
      "23.485255054507334                                                                    \n",
      "(0.36604152797870393, -9.4, 32.88525505450733)                                        \n",
      "{'lr': 0.0014505633208513062, 'negatives_weight': 0.18299862414765622, 'top_negatives': 16}\n",
      "8.6199293058323                                                                       \n",
      "(0.022233420933121917, -22.5, 31.1199293058323)                                       \n",
      "{'lr': 0.0012746321392044608, 'negatives_weight': 4.722821001659506e-05, 'top_negatives': 10}\n",
      "92.52406423928753                                                                     \n",
      "(0.23145554483699482, 12.7, 33.56203211964377)                                        \n",
      "{'lr': 0.009819516678915707, 'negatives_weight': 1.5394388793283733, 'top_negatives': 23}\n",
      "307.14474083710263                                                                    \n",
      "(0.00038817278774524484, 81.2, 72.37237041855131)                                     \n",
      "{'lr': 0.0016630388167858852, 'negatives_weight': 5.220980674708584e-08, 'top_negatives': 15}\n",
      "64.7146058987289                                                                      \n",
      "(0.8000033410972434, 2.4, 29.957302949364454)                                         \n",
      "{'lr': 0.002283023678889764, 'negatives_weight': 0.004198891996750088, 'top_negatives': 14}\n",
      "92.28374304328779                                                                     \n",
      "(0.39994099483929624, 9.7, 36.44187152164389)                                         \n",
      "{'lr': 0.0019038424528421156, 'negatives_weight': 7.162514637392929e-06, 'top_negatives': 19}\n",
      "89.56938177630343                                                                     \n",
      "(0.6513190889552686, 5.6, 39.184690888151714)                                         \n",
      "{'lr': 0.002541103086961533, 'negatives_weight': 0.020147304886966838, 'top_negatives': 17}\n",
      "110.92448989304151                                                                    \n",
      "(0.021968150216561236, 23.3, 32.16224494652076)                                       \n",
      "{'lr': 0.0010926061434136938, 'negatives_weight': 1.2924559638449197e-06, 'top_negatives': 16}\n",
      "20.827739398485136                                                                    \n",
      "(0.6333419257568542, -3.7, 24.527739398485135)                                        \n",
      "{'lr': 0.0014893093957797554, 'negatives_weight': 3.8785067280997305, 'top_negatives': 10}\n",
      "493.72356487103264                                                                    \n",
      "(0.0019363175936152088, 122.2, 124.6617824355163)                                     \n",
      "{'lr': 0.0012320129089855492, 'negatives_weight': 6.0160538502034365e-09, 'top_negatives': 20}\n",
      "37.67011383521443                                                                     \n",
      "(0.8556086842686023, -2.3, 39.97011383521443)                                         \n",
      "{'lr': 0.0016830875502144929, 'negatives_weight': 0.25969480102244524, 'top_negatives': 21}\n",
      "26.91853157450249                                                                     \n",
      "(0.7881360995186586, -2.5, 29.41853157450249)                                         \n",
      "{'lr': 0.002022945341656622, 'negatives_weight': 1.2604544664959678e-09, 'top_negatives': 13}\n",
      "17.29439052137419                                                                     \n",
      "(0.15880897692947493, -13.9, 31.19439052137419)                                       \n",
      "{'lr': 0.003524613484192123, 'negatives_weight': 0.925917126362016, 'top_negatives': 15}\n",
      "114.12829346165245                                                                    \n",
      "(0.19833907523121208, 16.5, 40.564146730826224)                                       \n",
      "{'lr': 0.0027804329921807145, 'negatives_weight': 1.7177372701497483e-07, 'top_negatives': 24}\n",
      "26.530071972831216                                                                    \n",
      "(0.4269852396045699, -8.9, 35.430071972831215)                                        \n",
      "{'lr': 0.008083592044284233, 'negatives_weight': 6.884913828857425e-05, 'top_negatives': 18}\n",
      "200.03788053308386                                                                    \n",
      "(0.009407067004243095, 45.1, 54.918940266541924)                                      \n",
      "{'lr': 0.0011638721289244497, 'negatives_weight': 0.008113877403348645, 'top_negatives': 16}\n",
      "28.39613239007726                                                                     \n",
      "(0.4955883438359574, -7.8, 36.19613239007726)                                         \n",
      "{'lr': 0.001452029141681415, 'negatives_weight': 0.15314389377322996, 'top_negatives': 16}\n",
      "77.78932840028172                                                                     \n",
      "(0.5563965789218206, 6.1, 32.79466420014086)                                          \n",
      "{'lr': 0.0013265736668005112, 'negatives_weight': 22.829630450336314, 'top_negatives': 16}\n",
      "667.1759533341955                                                                     \n",
      "(6.373337949099526e-08, 210.5, 123.08797666709775)                                    \n",
      "{'lr': 0.0010714084376234638, 'negatives_weight': 0.04741856644894986, 'top_negatives': 11}\n",
      "14.765316759227959                                                                    \n",
      "(0.39709806214895305, -5.4, 20.16531675922796)                                        \n",
      "{'lr': 0.0012345136410187292, 'negatives_weight': 0.0013330311556406561, 'top_negatives': 16}\n",
      "29.63506973850061                                                                     \n",
      "(0.6709096576073272, -4.6, 34.23506973850061)                                         \n",
      "{'lr': 0.0010039778076609066, 'negatives_weight': 8.313366312084078, 'top_negatives': 23}\n",
      "278.3011385774354                                                                     \n",
      "(0.010360924731257314, 62.3, 76.85056928871771)                                       \n",
      "{'lr': 0.0022463219098993953, 'negatives_weight': 0.19321708270940546, 'top_negatives': 14}\n",
      "89.06785447967883                                                                     \n",
      "(0.1229832004619966, 14.6, 29.933927239839417)                                        \n",
      "{'lr': 0.001383141308665692, 'negatives_weight': 0.0024422683873565323, 'top_negatives': 15}\n",
      "17.622401934920326                                                                    \n",
      "(0.10909410552634081, -18.1, 35.72240193492033)                                       \n",
      "{'lr': 0.0015213381000311384, 'negatives_weight': 1.2025667120988928, 'top_negatives': 16}\n",
      "120.3351824983341                                                                     \n",
      "(0.3420963529951889, 13.9, 46.267591249167054)                                        \n",
      "{'lr': 0.0016455522277763926, 'negatives_weight': 3.5178483429136045, 'top_negatives': 22}\n",
      "130.96392842789672                                                                    \n",
      "(5.605804155125311e-06, 38.6, 26.881964213948358)                                     \n",
      "{'lr': 0.0018941327175012537, 'negatives_weight': 0.06883686237404928, 'top_negatives': 20}\n",
      "19.7305496351065                                                                      \n",
      "(0.22695471708341175, -12.2, 31.930549635106498)                                      \n",
      "{'lr': 0.005186346032817797, 'negatives_weight': 0.0001953076233776888, 'top_negatives': 11}\n",
      "39.39242351763781                                                                     \n",
      "(0.9872550099447724, -0.2, 39.59242351763781)                                         \n",
      "{'lr': 0.002108728834047801, 'negatives_weight': 0.6547768271538889, 'top_negatives': 21}\n",
      "6.269167623343986                                                                     \n",
      "(0.016713368821896873, -19.5, 25.769167623343986)                                     \n",
      "{'lr': 0.0030015939722994947, 'negatives_weight': 23.784676965672553, 'top_negatives': 21}\n",
      "509.5230611121996                                                                     \n",
      "(5.082948619420537e-08, 161.2, 93.56153055609983)                                     \n",
      "{'lr': 0.0021068642169698045, 'negatives_weight': 0.4782597989765779, 'top_negatives': 21}\n",
      "16.616322646810513                                                                    \n",
      "(0.10287561019786119, -17.7, 34.31632264681051)                                       \n",
      "{'lr': 0.004281119309322711, 'negatives_weight': 1.3814586215724062e-05, 'top_negatives': 21}\n",
      "101.21179838346717                                                                    \n",
      "(0.11934063336078878, 16.7, 33.90589919173358)                                        \n",
      "{'lr': 0.0023826730823895905, 'negatives_weight': 0.01866297788191614, 'top_negatives': 17}\n",
      "48.615415884917326                                                                    \n",
      "(0.8236785913244937, 1.6, 22.70770794245866)                                          \n",
      "{'lr': 0.0027209419356796095, 'negatives_weight': 2.1621537046334107, 'top_negatives': 24}\n",
      "145.91461806616917                                                                    \n",
      "(0.0027261963235483124, 35.5, 37.457309033084584)                                     \n",
      "{'lr': 0.0017186560198283404, 'negatives_weight': 0.0007232553632373718, 'top_negatives': 21}\n",
      "81.48622128167477                                                                     \n",
      "(0.8635561776670597, 2.1, 38.643110640837385)                                         \n",
      "{'lr': 0.0018631651293964796, 'negatives_weight': 2.639351241344673e-08, 'top_negatives': 15}\n",
      "72.94654272053964                                                                     \n",
      "(0.03479283742491921, 14.6, 21.87327136026982)                                        \n",
      "{'lr': 0.002086571606813408, 'negatives_weight': 3.810046441739752e-07, 'top_negatives': 19}\n",
      "91.68896206047327                                                                     \n",
      "(0.2568278861584834, 12.1, 33.744481030236635)                                        \n",
      "{'lr': 0.003422177036722665, 'negatives_weight': 2.379470370044595e-05, 'top_negatives': 10}\n",
      "22.277561656805652                                                                    \n",
      "(0.7944701569874977, -2.0, 24.277561656805652)                                        \n",
      "{'lr': 0.002610766737278523, 'negatives_weight': 2.99396665106005e-09, 'top_negatives': 18}\n",
      "95.66810001639949                                                                     \n",
      "(0.3224390679902728, 11.4, 36.43405000819975)                                         \n",
      "{'lr': 0.0010588534752371036, 'negatives_weight': 0.003291685391122606, 'top_negatives': 13}\n",
      "18.00399968005119                                                                     \n",
      "(0.37599694812804674, -7.0, 25.00399968005119)                                        \n",
      "{'lr': 0.0038816682416424604, 'negatives_weight': 0.037216509992931315, 'top_negatives': 12}\n",
      "49.186852431237504                                                                    \n",
      "(0.6240761614882165, 3.3, 21.29342621561875)                                          \n",
      "{'lr': 0.0015717003490927008, 'negatives_weight': 0.10836997843478656, 'top_negatives': 21}\n",
      "53.09414554438915                                                                     \n",
      "(0.9515956393449382, 0.5, 26.047072772194575)                                         \n",
      "{'lr': 0.0011185043254560495, 'negatives_weight': 12.066696627196848, 'top_negatives': 15}\n",
      "365.66709521070766                                                                    \n",
      "(6.4417206226614e-11, 123.2, 59.633547605353826)                                      \n",
      "{'lr': 0.001965882443358809, 'negatives_weight': 0.007486829138707372, 'top_negatives': 23}\n",
      "17.421634890292687                                                                    \n",
      "(0.43564275298519906, -5.7, 23.121634890292686)                                       \n",
      "{'lr': 0.002419342586389998, 'negatives_weight': 1.139540662056879e-08, 'top_negatives': 22}\n",
      "11.167191056828852                                                                    \n",
      "(0.08670448534503784, -13.2, 24.36719105682885)                                       \n",
      "{'lr': 0.003166544163909649, 'negatives_weight': 1.0462867899740051e-07, 'top_negatives': 14}\n",
      "102.87948597937927                                                                    \n",
      "(0.11216445223342482, 17.2, 34.23974298968963)                                        \n",
      "{'lr': 0.001273635094064455, 'negatives_weight': 0.00029627211469020166, 'top_negatives': 17}\n",
      "18.485789632203826                                                                    \n",
      "(0.31535272026254846, -8.6, 27.085789632203824)                                       \n",
      "{'lr': 0.0013704261424999505, 'negatives_weight': 0.34571953005795236, 'top_negatives': 20}\n",
      "41.65709973043366                                                                     \n",
      "(0.7509238410074575, 1.9, 18.92854986521683)                                          \n",
      "{'lr': 0.007571757392802758, 'negatives_weight': 0.8033292872253033, 'top_negatives': 19}\n",
      "171.51017739944683                                                                    \n",
      "(0.004104768822026585, 40.8, 44.95508869972341)                                       \n",
      "{'lr': 0.0017526056772347593, 'negatives_weight': 2.8702469689633024e-06, 'top_negatives': 15}\n",
      "15.899084233724762                                                                    \n",
      "(0.1866495028698214, -11.4, 27.299084233724763)                                       \n",
      "{'lr': 0.0011840403483293462, 'negatives_weight': 0.01714451984689878, 'top_negatives': 11}\n",
      "70.8396489232499                                                                      \n",
      "(0.9928564231237579, 0.1, 35.31982446162495)                                          \n",
      "{'lr': 0.008718048133880708, 'negatives_weight': 0.00012140601574629214, 'top_negatives': 24}\n",
      "209.1130092056236                                                                      \n",
      "(0.0046222988760155, 49.4, 55.15650460281181)                                          \n",
      "{'lr': 0.006387637067304126, 'negatives_weight': 5.511749883387798, 'top_negatives': 10}\n",
      "520.8515598762652                                                                      \n",
      "(0.00294716984994244, 126.2, 134.2257799381326)                                        \n",
      "{'lr': 0.002162554212034688, 'negatives_weight': 0.0015132983199316339, 'top_negatives': 21}\n",
      "20.529290431632695                                                                     \n",
      "(0.31024203517169036, -9.7, 30.229290431632695)                                        \n",
      "{'lr': 0.0016184283812613854, 'negatives_weight': 6.123231041435257e-07, 'top_negatives': 13}\n",
      "28.30683255526981                                                                      \n",
      "(0.857816050790424, -1.7, 30.00683255526981)                                           \n",
      "{'lr': 0.001042348583348982, 'negatives_weight': 0.0004636122695002444, 'top_negatives': 18}\n",
      "36.07208679787184                                                                      \n",
      "(0.573966119269771, -7.8, 43.87208679787184)                                           \n",
      "{'lr': 0.0014923862029818122, 'negatives_weight': 4.569508062681097e-08, 'top_negatives': 12}\n",
      "73.0454948159576                                                                       \n",
      "(0.6811424761769722, 4.2, 32.322747407978795)                                          \n",
      "{'lr': 0.005846369353529091, 'negatives_weight': 1.4072046648676373e-06, 'top_negatives': 15}\n",
      "152.17798488120832                                                                     \n",
      "(0.059671067612095764, 28.4, 47.68899244060415)                                        \n",
      "{'lr': 0.0018340104871608627, 'negatives_weight': 2.3086940021980735e-09, 'top_negatives': 14}\n",
      "93.35557198238864                                                                      \n",
      "(0.44380072727123887, 9.1, 37.57778599119432)                                          \n",
      "{'lr': 0.0012752588423795852, 'negatives_weight': 0.6131434007597085, 'top_negatives': 23}\n",
      "14.75078658524328                                                                      \n",
      "(0.05928437615301825, -21.8, 36.55078658524328)                                        \n",
      "{'lr': 0.002960755373687141, 'negatives_weight': 5.6951355655386215e-06, 'top_negatives': 16}\n",
      "59.74539139217511                                                                      \n",
      "(0.6548410630239225, 3.7, 26.172695696087555)                                          \n",
      "{'lr': 0.0011461545345440968, 'negatives_weight': 0.030268156744155228, 'top_negatives': 21}\n",
      "59.31603020228758                                                                      \n",
      "(0.19654415597650188, 8.6, 21.05801510114379)                                          \n",
      "{'lr': 0.0014218628553715324, 'negatives_weight': 3.6054158567806046e-05, 'top_negatives': 20}\n",
      "81.80346142325527                                                                      \n",
      "(0.06996955268691807, 14.9, 26.001730711627637)                                        \n",
      "{'lr': 0.0022954118244363844, 'negatives_weight': 3.3135285546849986, 'top_negatives': 22}\n",
      "292.8494421547848                                                                      \n",
      "(0.0013937478717645374, 73.6, 72.8247210773924)                                        \n",
      "{'lr': 0.004086802005609807, 'negatives_weight': 0.081823659034155, 'top_negatives': 17}\n",
      "148.9188028078894                                                                      \n",
      "(0.005782322837080072, 34.7, 39.7594014039447)                                         \n",
      "{'lr': 0.0020126478707352857, 'negatives_weight': 0.0073486675142189475, 'top_negatives': 16}\n",
      "17.09833329124367                                                                      \n",
      "(0.12757871364413764, -15.9, 32.99833329124367)                                        \n",
      "{'lr': 0.0025439566362938436, 'negatives_weight': 8.286148041994764e-05, 'top_negatives': 15}\n",
      "66.08529239814347                                                                      \n",
      "(0.872159074381677, 1.6, 31.44264619907173)                                            \n",
      "{'lr': 0.002677772296122778, 'negatives_weight': 1.4483202721078938, 'top_negatives': 19}\n",
      "133.64476365805297                                                                     \n",
      "(0.036502251952435574, 26.6, 40.22238182902648)                                        \n",
      "{'lr': 0.0012286178884799263, 'negatives_weight': 0.002303558243602561, 'top_negatives': 11}\n",
      "52.259564520678765                                                                     \n",
      "(0.889470174781979, 1.1, 25.02978226033938)                                            \n",
      "{'lr': 0.004596748020443199, 'negatives_weight': 8.521541406711973e-08, 'top_negatives': 24}\n",
      "127.98590651337152                                                                     \n",
      "(0.020185860068190904, 27.1, 36.89295325668576)                                        \n",
      "{'lr': 0.0010017004853038636, 'negatives_weight': 1.2385431777967568e-05, 'top_negatives': 10}\n",
      "12.244637081869335                                                                     \n",
      "(0.3151485521551928, -5.7, 17.944637081869335)                                         \n",
      "{'lr': 0.003328383468692844, 'negatives_weight': 2.0644995725041404e-07, 'top_negatives': 21}\n",
      "109.37825691670844                                                                     \n",
      "(0.008694295143020678, 24.8, 29.889128458354218)                                       \n",
      "{'lr': 0.003675621925028789, 'negatives_weight': 15.081351716300562, 'top_negatives': 13}\n",
      "517.0446274206597                                                                      \n",
      "(0.0007061322947032943, 133.7, 124.82231371032984)                                     \n",
      "{'lr': 0.0017036654404051646, 'negatives_weight': 0.054955140118474716, 'top_negatives': 18}\n",
      "78.91544977261907                                                                      \n",
      "(0.42857734058000974, 7.9, 31.557724886309533)                                         \n",
      "{'lr': 0.0015714566210747788, 'negatives_weight': 8.037496006828045, 'top_negatives': 12}\n",
      "537.580619245122                                                                       \n",
      "(3.8784453557869995e-07, 165.6, 103.19030962256097)                                    \n",
      "{'lr': 0.0013493417196116743, 'negatives_weight': 0.24239451964356953, 'top_negatives': 15}\n",
      "25.034531687086158                                                                     \n",
      "(0.5925204066205041, -5.1, 30.13453168708616)                                          \n",
      "{'lr': 0.0030623310614617456, 'negatives_weight': 7.911995017448023e-09, 'top_negatives': 16}\n",
      "95.66301834108882                                                                      \n",
      "(0.00027113620430881, 25.6, 22.231509170544406)                                        \n",
      "{'lr': 0.006877126382959787, 'negatives_weight': 2.1275389808935556, 'top_negatives': 23}\n",
      "200.32684070763963                                                                     \n",
      "(0.005938260144962615, 46.6, 53.56342035381982)                                        \n",
      "{'lr': 0.002835947937533357, 'negatives_weight': 0.0007952337367027318, 'top_negatives': 21}\n",
      "58.85779778530135                                                                      \n",
      "(0.568112543070368, 4.5, 24.928898892650675)                                           \n",
      "{'lr': 0.0021603885161864556, 'negatives_weight': 0.14073224294746836, 'top_negatives': 22}\n",
      "105.27451514418112                                                                     \n",
      "(0.07892406346902534, 18.8, 33.837257572090564)                                        \n",
      "{'lr': 0.0011167799439911973, 'negatives_weight': 0.024749840555777856, 'top_negatives': 20}\n",
      "18.5442464002244                                                                       \n",
      "(0.12694676513386835, -17.3, 35.8442464002244)                                         \n",
      "{'lr': 0.00147106715836147, 'negatives_weight': 0.00019009600881332705, 'top_negatives': 14}\n",
      "80.02834118620187                                                                      \n",
      "(0.8747402815971876, 1.9, 38.11417059310094)                                           \n",
      "{'lr': 0.0019480289620960082, 'negatives_weight': 0.01191915662909064, 'top_negatives': 17}\n",
      "9.814175355583846                                                                      \n",
      "(0.04497780615080567, -17.0, 26.814175355583846)                                       \n",
      "{'lr': 0.0024240466388923297, 'negatives_weight': 0.3389857110372004, 'top_negatives': 15}\n",
      "86.20485417829249                                                                      \n",
      "(0.21187042566039727, 12.2, 30.902427089146247)                                        \n",
      "{'lr': 0.0017963617594499767, 'negatives_weight': 0.004277545132636052, 'top_negatives': 16}\n",
      "24.154375659872155                                                                     \n",
      "(0.40237526608972274, -8.7, 32.854375659872154)                                        \n",
      "{'lr': 0.0016406065624294144, 'negatives_weight': 8.792087929679854e-07, 'top_negatives': 19}\n",
      "73.39696961966999                                                                      \n",
      "(0.4560565402502559, 7.0, 29.698484809834994)                                          \n",
      "{'lr': 0.0013077230130928111, 'negatives_weight': 1.0547918991061737e-09, 'top_negatives': 11}\n",
      "75.24704074483925                                                                      \n",
      "(0.4697774237316308, 7.0, 30.623520372419627)                                          \n",
      "{'lr': 0.002341717999676385, 'negatives_weight': 2.98379483165952e-08, 'top_negatives': 21}\n",
      "66.68844857802054                                                                      \n",
      "(0.9140909188670086, 1.1, 32.24422428901027)                                           \n",
      "{'lr': 0.0011744907941426443, 'negatives_weight': 24.20758893511082, 'top_negatives': 24}\n",
      "420.76195160434645                                                                     \n",
      "(4.121758186442975e-09, 136.8, 73.5809758021732)                                       \n",
      "{'lr': 0.005387399180254742, 'negatives_weight': 0.8692365417430176, 'top_negatives': 10}\n",
      "216.07477401969908                                                                     \n",
      "(0.016869588680390946, 46.5, 61.537387009849546)                                       \n",
      "{'lr': 0.001070989230120648, 'negatives_weight': 2.60287999831381e-05, 'top_negatives': 13}\n",
      "38.565244037829736                                                                     \n",
      "(0.7663367769341034, -4.0, 42.565244037829736)                                         \n",
      "{'lr': 0.0013802242135243104, 'negatives_weight': 4.232134075402348e-06, 'top_negatives': 18}\n",
      "36.385481037630804                                                                     \n",
      "(0.9457597439095734, -0.8, 37.1854810376308)                                           \n",
      "{'lr': 0.001521722724316963, 'negatives_weight': 8.706187216708566, 'top_negatives': 12}\n",
      "429.1846289197847                                                                      \n",
      "(0.0023131961090974164, 105.3, 109.29231445989237)                                     \n",
      "{'lr': 0.00205878259437579, 'negatives_weight': 0.001546883433747172, 'top_negatives': 15}\n",
      "27.830215202034843                                                                     \n",
      "(0.34355425989562394, -11.9, 39.73021520203484)                                        \n",
      "{'lr': 0.0021881174462610085, 'negatives_weight': 1.5117362309451386e-08, 'top_negatives': 16}\n",
      "29.789839631220737                                                                     \n",
      "(0.8644457688511156, -1.7, 31.489839631220736)                                         \n",
      "{'lr': 0.0019416052631720643, 'negatives_weight': 2.7841279767775987e-07, 'top_negatives': 23}\n",
      "78.59739125503224                                                                      \n",
      "(0.6599474639065249, 4.8, 34.49869562751612)                                           \n",
      "{'lr': 0.0012348716480132533, 'negatives_weight': 0.10609363606578366, 'top_negatives': 16}\n",
      "10.829971927611105                                                                     \n",
      "(0.3049770831675648, -5.2, 16.029971927611104)                                         \n",
      "{'lr': 0.001464471115444144, 'negatives_weight': 3.11937788702728, 'top_negatives': 16}\n",
      "174.69917555441458                                                                     \n",
      "(0.02808271756176631, 35.8, 51.5495877772073)                                          \n",
      "{'lr': 0.0018373612674755283, 'negatives_weight': 0.5209463055015533, 'top_negatives': 16}\n",
      "74.3583944180142                                                                       \n",
      "(0.007720233406298186, 17.0, 20.1791972090071)                                         \n",
      "{'lr': 0.0014177234468566767, 'negatives_weight': 0.20798952381121444, 'top_negatives': 16}\n",
      "31.001863300125972                                                                     \n",
      "(0.9061928202383859, -1.2, 32.20186330012597)                                          \n",
      "{'lr': 0.0010031057413608904, 'negatives_weight': 0.04564991576756358, 'top_negatives': 16}\n",
      "81.35392781621849                                                                      \n",
      "(0.9937819227001607, 0.1, 40.57696390810924)                                           \n",
      "{'lr': 0.0017390292169101027, 'negatives_weight': 1.2461240247532521, 'top_negatives': 21}\n",
      "85.51005554772125                                                                      \n",
      "(0.5219316061733533, 7.2, 35.55502777386062)                                           \n",
      "{'lr': 0.0012825132841914274, 'negatives_weight': 5.86730267887551, 'top_negatives': 14}\n",
      "234.42404519954096                                                                     \n",
      "(2.0086390705602508e-05, 67.3, 49.91202259977049)                                      \n",
      "{'lr': 0.0015855105696922116, 'negatives_weight': 0.005854172248627451, 'top_negatives': 22}\n",
      "28.430753415174834                                                                     \n",
      "(0.8740788242976848, -1.5, 29.930753415174834)                                         \n",
      "{'lr': 0.0011054867375616343, 'negatives_weight': 0.011319780875844034, 'top_negatives': 16}\n",
      "29.7644243551348                                                                       \n",
      "(0.8643373362666776, -1.7, 31.4644243551348)                                           \n",
      "{'lr': 0.0011731957534380079, 'negatives_weight': 16.192469068127, 'top_negatives': 20}\n",
      "538.175835293062                                                                       \n",
      "(9.479051018735656e-09, 173.5, 95.58791764653104)                                      \n",
      "{'lr': 0.0025220915668164117, 'negatives_weight': 0.13354426736055783, 'top_negatives': 15}\n",
      "2.899729727755483                                                                      \n",
      "(0.00766209318273753, -15.6, 18.499729727755483)                                       \n",
      "{'lr': 0.003199871711296755, 'negatives_weight': 0.07904129512710036, 'top_negatives': 15}\n",
      "54.59687489100105                                                                      \n",
      "(0.48906513761151893, 4.9, 22.398437445500523)                                         \n",
      "{'lr': 0.002512876686785837, 'negatives_weight': 0.37598304829962287, 'top_negatives': 15}\n",
      "43.914198071775154                                                                     \n",
      "(0.8800601933934482, 1.0, 20.957099035887577)                                          \n",
      "{'lr': 0.003994917114202896, 'negatives_weight': 0.01592218143309984, 'top_negatives': 15}\n",
      "113.58048522475303                                                                     \n",
      "(0.08803548059797324, 19.9, 36.89024261237652)                                         \n",
      "{'lr': 0.0028509668042173576, 'negatives_weight': 0.003014959657032828, 'top_negatives': 15}\n",
      "75.60276809980643                                                                      \n",
      "(0.3301540765840273, 8.9, 28.901384049903214)                                          \n",
      "{'lr': 0.0036732430175829603, 'negatives_weight': 1.814501849155237, 'top_negatives': 15}\n",
      "287.8101284411357                                                                      \n",
      "(1.8129284809605474e-07, 89.6, 54.305064220567864)                                     \n",
      "{'lr': 0.004324322787606809, 'negatives_weight': 0.030498788589529792, 'top_negatives': 17}\n",
      "92.43716841753796                                                                      \n",
      "(0.12865662004364642, 15.0, 31.21858420876898)                                         \n",
      "{'lr': 0.0022388096604483566, 'negatives_weight': 5.6825761506160625e-05, 'top_negatives': 15}\n",
      "61.1748888015451                                                                       \n",
      "(0.3750992499727145, 6.7, 23.88744440077255)                                           \n",
      "{'lr': 0.002630284596634103, 'negatives_weight': 0.15569649376958042, 'top_negatives': 19}\n",
      "40.48333013926141                                                                      \n",
      "(0.8272953175700066, -3.0, 43.48333013926141)                                          \n",
      "{'lr': 0.004807106597285797, 'negatives_weight': 0.0005180764685720929, 'top_negatives': 21}\n",
      "118.5060507222214                                                                      \n",
      "(0.1071301500127606, 20.0, 39.2530253611107)                                           \n",
      "{'lr': 0.003042649219314695, 'negatives_weight': 2.0185979579872746e-06, 'top_negatives': 11}\n",
      "29.381313885015203                                                                     \n",
      "(0.5428939209241426, -7.0, 36.3813138850152)                                           \n",
      "{'lr': 0.0033798530773930823, 'negatives_weight': 0.8905219765644699, 'top_negatives': 10}\n",
      "208.74593183703547                                                                     \n",
      "(0.0013145114786205889, 52.6, 51.77296591851774)                                       \n",
      "{'lr': 0.002729292684094207, 'negatives_weight': 0.001014679822522153, 'top_negatives': 24}\n",
      "35.564826059291036                                                                     \n",
      "(0.553515554999678, -8.2, 43.76482605929104)                                           \n",
      "{'lr': 0.002486036819175731, 'negatives_weight': 5.291595266904616, 'top_negatives': 13}\n",
      "431.4644524536328                                                                      \n",
      "(2.37549505424294e-05, 123.4, 92.33222622681639)                                       \n",
      "{'lr': 0.0035232568639131396, 'negatives_weight': 0.6077863303802964, 'top_negatives': 15}\n",
      "134.8574147663116                                                                      \n",
      "(0.0213863746443444, 28.4, 39.028707383155805)                                         \n",
      "{'lr': 0.0020379873203074826, 'negatives_weight': 2.083516949411709e-09, 'top_negatives': 18}\n",
      "12.8971050426111                                                                       \n",
      "(0.30990934225463895, -6.1, 18.9971050426111)                                          \n",
      "{'lr': 0.0023078875215363052, 'negatives_weight': 4.367638481938721e-09, 'top_negatives': 21}\n",
      "20.01276249188938                                                                      \n",
      "(0.637839356046978, -3.5, 23.51276249188938)                                           \n",
      "{'lr': 0.0019035146442961288, 'negatives_weight': 0.0002553549442759379, 'top_negatives': 23}\n",
      "103.76938092180795                                                                     \n",
      "(0.10451439134979097, 17.6, 34.284690460903974)                                        \n",
      "{'lr': 0.0031126747066842703, 'negatives_weight': 1.250070196964919e-05, 'top_negatives': 12}\n",
      "12.391340368198634                                                                     \n",
      "(0.1428316472419986, -10.7, 23.091340368198633)                                        \n",
      "{'lr': 0.0017479276693283363, 'negatives_weight': 0.04040881895180014, 'top_negatives': 14}\n",
      "67.40470994398939                                                                      \n",
      "(0.4846460502240375, 6.1, 27.602354971994693)                                          \n",
      "{'lr': 0.002129992784552363, 'negatives_weight': 0.001934341699073841, 'top_negatives': 15}\n",
      "17.965407476488004                                                                     \n",
      "(0.4116357115670297, -6.3, 24.265407476488004)                                         \n",
      "{'lr': 0.002900676952740604, 'negatives_weight': 0.2643599861879725, 'top_negatives': 22}\n",
      "34.602881724721364                                                                     \n",
      "(0.9927294291471341, -0.1, 34.702881724721365)                                         \n",
      "{'lr': 0.0010454300906867053, 'negatives_weight': 7.50892106940537e-08, 'top_negatives': 20}\n",
      "20.47335670534148                                                                      \n",
      "(0.41548999653108143, -7.1, 27.57335670534148)                                         \n",
      "{'lr': 0.004961145508419789, 'negatives_weight': 0.09629648148174291, 'top_negatives': 17}\n",
      "139.04042594275515                                                                     \n",
      "(0.030914267113953467, 28.2, 41.32021297137758)                                        \n",
      "{'lr': 0.0016485411196963584, 'negatives_weight': 0.009309764664947701, 'top_negatives': 15}\n",
      "22.727960678580423                                                                     \n",
      "(0.7539993294629853, -2.5, 25.227960678580423)                                         \n",
      "{'lr': 0.0024108264962566838, 'negatives_weight': 2.3431337346919463, 'top_negatives': 19}\n",
      "171.92401408950258                                                                     \n",
      "(0.00019433778532683117, 46.5, 39.46200704475128)                                      \n",
      "{'lr': 0.0044031310986263755, 'negatives_weight': 0.004687081439718398, 'top_negatives': 11}\n",
      "78.02221879392498                                                                      \n",
      "(0.7922100442059852, 3.0, 36.01110939696249)                                           \n",
      "{'lr': 0.0013222845170071933, 'negatives_weight': 5.053262485159076e-07, 'top_negatives': 21}\n",
      "1.9555005499707505                                                                     \n",
      "(0.004834190122471417, -16.0, 17.95550054997075)                                       \n",
      "{'lr': 0.0026299447513205747, 'negatives_weight': 3.558864701385284e-07, 'top_negatives': 21}\n",
      "59.374903365081046                                                                      \n",
      "(0.8001927146847287, 2.2, 27.487451682540524)                                           \n",
      "{'lr': 0.0013468836626341209, 'negatives_weight': 7.097089625382563e-07, 'top_negatives': 21}\n",
      "57.815834267827626                                                                      \n",
      "(0.33072227993719394, 6.8, 22.107917133913812)                                          \n",
      "{'lr': 0.0015322223511887259, 'negatives_weight': 1.2875044586243763e-07, 'top_negatives': 21}\n",
      "34.332499187901526                                                                      \n",
      "(0.9781463907891546, -0.3, 34.63249918790152)                                           \n",
      "{'lr': 0.0037006316485749804, 'negatives_weight': 3.0787808792912435e-08, 'top_negatives': 21}\n",
      "77.72651576652513                                                                       \n",
      "(0.017182734693395024, 16.7, 22.16325788326256)                                         \n",
      "{'lr': 0.0012238121310411414, 'negatives_weight': 5.778251630797987e-08, 'top_negatives': 21}\n",
      "28.608579643394705                                                                      \n",
      "(0.8592167530449559, -1.7, 30.308579643394705)                                          \n",
      "{'lr': 0.00200047419630097, 'negatives_weight': 1.728797106773015e-08, 'top_negatives': 21}\n",
      "71.84005988020597                                                                       \n",
      "(0.2762390233391807, 9.2, 26.720029940102986)                                           \n",
      "{'lr': 0.001651461771771582, 'negatives_weight': 2.988721832483741e-06, 'top_negatives': 24}\n",
      "11.55355264544471                                                                       \n",
      "(0.2024924416786279, -7.8, 19.35355264544471)                                           \n",
      "{'lr': 0.0018516618447755413, 'negatives_weight': 1.0555838770649731e-08, 'top_negatives': 10}\n",
      "65.21660117359467                                                                       \n",
      "(0.46680179159667334, 6.1, 26.508300586797336)                                          \n",
      "{'lr': 0.003270978527639369, 'negatives_weight': 1.4359604289161516e-06, 'top_negatives': 21}\n",
      "52.85681183268612                                                                       \n",
      "(0.28284648252122413, 6.7, 19.72840591634306)                                           \n",
      "{'lr': 0.004085428968846302, 'negatives_weight': 4.663193256530888e-09, 'top_negatives': 13}\n",
      "38.083990704000584                                                                      \n",
      "(0.8018558346864693, 1.4, 17.641995352000293)                                           \n",
      "{'lr': 0.0014070058564535836, 'negatives_weight': 0.00011921906454285266, 'top_negatives': 18}\n",
      "9.467454442182886                                                                       \n",
      "(0.06641016119965805, -13.1, 22.567454442182886)                                        \n",
      "{'lr': 0.002732631583278326, 'negatives_weight': 1.922818913261426e-05, 'top_negatives': 12}\n",
      "68.6976799569392                                                                        \n",
      "(0.7537416172062441, 3.1, 31.2488399784696)                                             \n",
      "{'lr': 0.0011321514437222392, 'negatives_weight': 8.235183038014594e-06, 'top_negatives': 15}\n",
      "98.10383532280542                                                                       \n",
      "(0.2443061020608286, 13.2, 35.851917661402716)                                          \n",
      "{'lr': 0.0023249296074451128, 'negatives_weight': 4.36092092290714e-06, 'top_negatives': 21}\n",
      "102.8266610253153                                                                       \n",
      "(0.04583482069460583, 19.9, 31.513330512657653)                                         \n",
      "{'lr': 0.0017743955339979231, 'negatives_weight': 1.912051245093772e-07, 'top_negatives': 23}\n",
      "58.36849416715056                                                                       \n",
      "(0.6359347836156375, 3.8, 25.38424708357528)                                            \n",
      "{'lr': 0.0021613249010543206, 'negatives_weight': 1.7843303446174616e-09, 'top_negatives': 14}\n",
      "70.72389932211811                                                                       \n",
      "(0.2731849385937819, 9.1, 26.26194966105906)                                            \n",
      "{'lr': 0.0010074971297393007, 'negatives_weight': 4.872939760357162e-07, 'top_negatives': 15}\n",
      "81.33546362715903                                                                       \n",
      "(0.6429140825744862, 5.2, 35.46773181357951)                                            \n",
      "{'lr': 0.0015015313531023188, 'negatives_weight': 1.1266261328512879e-06, 'top_negatives': 17}\n",
      "43.52465488055074                                                                       \n",
      "(0.5856490336889453, 3.2, 18.56232744027537)                                            \n",
      "{'lr': 0.001320595664589982, 'negatives_weight': 2.468758063376603e-07, 'top_negatives': 22}\n",
      "67.85213951752094                                                                       \n",
      "(0.8836971644447789, 1.5, 32.42606975876047)                                            \n",
      "{'lr': 0.001595064929469349, 'negatives_weight': 2.198437025255912e-06, 'top_negatives': 21}\n",
      "37.3829028599124                                                                        \n",
      "(0.5251737907865921, -9.4, 46.7829028599124)                                            \n",
      "{'lr': 0.0018928078385626302, 'negatives_weight': 4.208684259140122e-08, 'top_negatives': 20}\n",
      "89.2942064744658                                                                        \n",
      "(0.06125776394711251, 16.6, 28.047103237232893)                                         \n",
      "{'lr': 0.002520791192127829, 'negatives_weight': 8.686191369530915e-09, 'top_negatives': 19}\n",
      "94.80518117328657                                                                       \n",
      "(0.4709800350544958, 8.8, 38.60259058664328)                                            \n",
      "{'lr': 0.0012382865603173764, 'negatives_weight': 6.347926950783844e-06, 'top_negatives': 15}\n",
      "55.88351300709531                                                                       \n",
      "(0.9540529201609866, 0.5, 27.441756503547655)                                           \n",
      "{'lr': 0.003877840622877105, 'negatives_weight': 1.0770835156908017e-07, 'top_negatives': 11}\n",
      "92.19969788450699                                                                       \n",
      "(0.21424105206257404, 13.0, 33.099848942253494)                                         \n",
      "{'lr': 0.0010791644566869615, 'negatives_weight': 3.1670848491572974e-09, 'top_negatives': 10}\n",
      "65.80966588808839                                                                       \n",
      "(0.75988058670809, 2.9, 30.004832944044196)                                             \n",
      "{'lr': 0.0029118884393086646, 'negatives_weight': 4.983203989537758e-07, 'top_negatives': 18}\n",
      "74.83161067949547                                                                       \n",
      "(0.13067398224798088, 12.1, 25.315805339747737)                                         \n",
      "{'lr': 0.00582382441169567, 'negatives_weight': 2.7323009284631927e-05, 'top_negatives': 24}\n",
      "112.83417971329914                                                                      \n",
      "(0.05510402177867521, 21.3, 35.11708985664957)                                          \n",
      "{'lr': 0.002058031648085423, 'negatives_weight': 1.1688924242168217e-09, 'top_negatives': 13}\n",
      "106.92042531003054                                                                      \n",
      "(0.22173354542187762, 14.9, 38.56021265501527)                                          \n",
      "{'lr': 0.00879306258221142, 'negatives_weight': 2.2412949693537373e-08, 'top_negatives': 15}\n",
      "207.961377542376                                                                        \n",
      "(0.004666615194476251, 49.1, 54.880688771188)                                           \n",
      "{'lr': 0.0011786101127095412, 'negatives_weight': 7.74766019882143e-05, 'top_negatives': 12}\n",
      "60.527065850438625                                                                      \n",
      "(0.8322374521391012, 1.9, 28.363532925219314)                                           \n",
      "{'lr': 0.006177792842222035, 'negatives_weight': 4.88384560895792e-05, 'top_negatives': 21}\n",
      "121.0056816347672                                                                       \n",
      "(0.2357101540243952, 16.5, 44.0028408173836)                                            \n",
      "{'lr': 0.003507076317462853, 'negatives_weight': 4.822105506330999e-08, 'top_negatives': 23}\n",
      "79.8731647338601                                                                        \n",
      "(0.0013540506914076864, 20.1, 19.836582366930045)                                       \n",
      "{'lr': 0.0022535815110729927, 'negatives_weight': 11.100893558983923, 'top_negatives': 14}\n",
      "576.9237025646623                                                                       \n",
      "(8.414924778466506e-08, 181.4, 107.06185128233119)                                      \n",
      "{'lr': 0.0017158502486801504, 'negatives_weight': 1.5357735545769832e-07, 'top_negatives': 15}\n",
      "10.899127884866722                                                                    \n",
      "(0.24672741380558383, -6.3, 17.199127884866723)                                       \n",
      "{'lr': 0.0010054764853078544, 'negatives_weight': 0.0004047755919901563, 'top_negatives': 22}\n",
      "24.52776554086889                                                                     \n",
      "(0.48261087982687334, -7.0, 31.52776554086889)                                        \n",
      "{'lr': 0.001443383853392054, 'negatives_weight': 1.7998042523825132e-05, 'top_negatives': 21}\n",
      "59.34806012412277                                                                     \n",
      "(0.9121843968928438, 1.0, 28.674030062061384)                                         \n",
      "{'lr': 0.003180970173787347, 'negatives_weight': 7.699617396517279e-07, 'top_negatives': 20}\n",
      "66.51781244502072                                                                     \n",
      "(0.09465759945336746, 11.5, 21.758906222510358)                                       \n",
      "{'lr': 0.007453924579139083, 'negatives_weight': 5.4134313478614614e-09, 'top_negatives': 17}\n",
      "114.43777339715365                                                                    \n",
      "(0.006372441817543618, 26.5, 30.71888669857682)                                       \n",
      "{'lr': 0.002374670014342195, 'negatives_weight': 0.0001583330570865066, 'top_negatives': 15}\n",
      "25.45461207331442                                                                     \n",
      "(0.5049768870673843, -6.8, 32.25461207331442)                                         \n",
      "{'lr': 0.0019588270252991454, 'negatives_weight': 0.02152658830073591, 'top_negatives': 19}\n",
      "27.230473648730687                                                                    \n",
      "(0.5896109354540586, -5.6, 32.83047364873069)                                         \n",
      "{'lr': 0.0015590317476210328, 'negatives_weight': 23.01346629134341, 'top_negatives': 21}\n",
      "626.7159489979922                                                                     \n",
      "(4.7335841126470924e-07, 192.5, 120.85797449899613)                                   \n",
      "{'lr': 0.0018097846290617886, 'negatives_weight': 0.0007586029069344152, 'top_negatives': 24}\n",
      "24.35454153830063                                                                     \n",
      "(0.4658380765031711, -7.3, 31.65454153830063)                                         \n",
      "{'lr': 0.0027868658761794575, 'negatives_weight': 1.69228549847246e-06, 'top_negatives': 11}\n",
      "67.50623799895129                                                                     \n",
      "(0.4164715374672566, 6.9, 26.853118999475647)                                         \n",
      "{'lr': 0.002588829493941934, 'negatives_weight': 9.76557560820368e-06, 'top_negatives': 13}\n",
      "82.55485525227213                                                                     \n",
      "(0.12021670724481644, 13.6, 27.677427626136065)                                       \n",
      "{'lr': 0.0016830739335801934, 'negatives_weight': 4.039881601055405, 'top_negatives': 10}\n",
      "293.5960525675073                                                                     \n",
      "(7.709235229701284e-06, 86.0, 60.79802628375365)                                      \n",
      "{'lr': 0.0013594319056342199, 'negatives_weight': 4.2788294206560685e-06, 'top_negatives': 15}\n",
      "46.529091845738975                                                                    \n",
      "(0.22016564619230106, 6.5, 16.764545922869488)                                        \n",
      "{'lr': 0.0030559739993747032, 'negatives_weight': 1.3462097661152077, 'top_negatives': 18}\n",
      "201.90150731149015                                                                    \n",
      "(0.01944178149938781, 42.9, 58.050753655745076)                                       \n",
      "{'lr': 0.0012768593305921923, 'negatives_weight': 7.752542844892319e-08, 'top_negatives': 21}\n",
      "2.997979694908267                                                                     \n",
      "(0.007287373784048633, -16.8, 19.797979694908268)                                     \n",
      "{'lr': 0.001100126503738209, 'negatives_weight': 1.3432195052001685e-08, 'top_negatives': 12}\n",
      "26.37798568559808                                                                     \n",
      "(0.6449032109859413, -4.5, 30.87798568559808)                                         \n",
      "{'lr': 0.00128743198913362, 'negatives_weight': 7.749163826253499e-08, 'top_negatives': 21}\n",
      "24.338948632734862                                                                    \n",
      "(0.9794379682260612, -0.2, 24.53894863273486)                                         \n",
      "{'lr': 0.005232925395201761, 'negatives_weight': 2.8001264391016987e-07, 'top_negatives': 14}\n",
      "45.18154140858802                                                                     \n",
      "(0.9242817077276038, -1.4, 46.581541408588016)                                        \n",
      "{'lr': 0.001035971660624718, 'negatives_weight': 3.6006256273057376e-08, 'top_negatives': 23}\n",
      "89.42714558546498                                                                     \n",
      "(0.52391418193044, 7.5, 37.21357279273249)                                            \n",
      "{'lr': 0.0011534192792216178, 'negatives_weight': 7.180324454445523e-08, 'top_negatives': 15}\n",
      "31.184333653096004                                                                    \n",
      "(0.8488479311537577, -2.0, 33.184333653096004)                                        \n",
      "{'lr': 0.0012160581393560101, 'negatives_weight': 7.890137884489085e-09, 'top_negatives': 22}\n",
      "26.95715619331892                                                                     \n",
      "(0.35028294464947085, -11.3, 38.25715619331892)                                       \n",
      "{'lr': 0.0010709347693790827, 'negatives_weight': 3.9702220629253066e-07, 'top_negatives': 21}\n",
      "-0.40192316583093657                                                                  \n",
      "(0.0012668350745623756, -21.2, 20.798076834169063)                                    \n",
      "{'lr': 0.0014032159006823234, 'negatives_weight': 1.1832175522612083e-06, 'top_negatives': 21}\n",
      "24.464145240603813                                                                      \n",
      "(0.5616148173258397, -5.5, 29.964145240603813)                                          \n",
      "{'lr': 0.0010036575633023894, 'negatives_weight': 4.940651240501294e-07, 'top_negatives': 21}\n",
      "32.57534140763772                                                                       \n",
      "(0.6397365451349534, 2.1, 14.187670703818862)                                           \n",
      "{'lr': 0.0014758418715429837, 'negatives_weight': 2.4554877142344402e-06, 'top_negatives': 21}\n",
      "28.948102806081877                                                                      \n",
      "(0.9404834359322766, -0.7, 29.648102806081877)                                          \n",
      "{'lr': 0.001313892739842007, 'negatives_weight': 2.1099625396294204e-08, 'top_negatives': 21}\n",
      "101.16609357594922                                                                      \n",
      "(0.17431627278477713, 15.2, 35.38304678797461)                                          \n",
      "{'lr': 0.0010741438636943375, 'negatives_weight': 1.696840299659617e-07, 'top_negatives': 21}\n",
      "84.17049039936991                                                                       \n",
      "(0.7536184828842678, 3.8, 38.28524519968496)                                            \n",
      "{'lr': 0.004495715489025384, 'negatives_weight': 3.2344144488442675e-05, 'top_negatives': 21}\n",
      "112.99223675493181                                                                      \n",
      "(5.823039867336842e-07, 34.6, 21.8961183774659)                                         \n",
      "{'lr': 0.004911291435848957, 'negatives_weight': 8.486632737692829e-07, 'top_negatives': 21}\n",
      "122.48374990191292                                                                      \n",
      "(0.02502569403653405, 25.4, 35.84187495095646)                                          \n",
      "{'lr': 0.009120670245373759, 'negatives_weight': 6.132597135276153e-06, 'top_negatives': 20}\n",
      "221.7110947918111                                                                       \n",
      "(0.0005451330979849501, 57.9, 52.955547395905555)                                       \n",
      "{'lr': 0.0012543627518201608, 'negatives_weight': 2.5710064408782975e-09, 'top_negatives': 21}\n",
      "19.022907556317076                                                                      \n",
      "(0.2822862691015019, -9.8, 28.822907556317077)                                          \n",
      "{'lr': 0.0012017853303793755, 'negatives_weight': 1.1242482879903438e-07, 'top_negatives': 17}\n",
      "11.366782086519173                                                                      \n",
      "(0.09517118911911289, -12.7, 24.066782086519172)                                        \n",
      "{'lr': 0.006778619312727198, 'negatives_weight': 3.1031207864266206e-06, 'top_negatives': 11}\n",
      "181.06983260390749                                                                      \n",
      "(0.007711074846576683, 41.4, 49.134916301953744)                                        \n",
      "{'lr': 0.0011178663874835595, 'negatives_weight': 3.0785591853043937e-07, 'top_negatives': 19}\n",
      "78.75021793216072                                                                       \n",
      "(0.002364362453365264, 19.3, 20.07510896608036)                                         \n",
      "100%|██████████| 250/250 [7:12:24<00:00, 103.78s/trial, best loss: -0.40192316583093657]\n",
      "{'lr': 0.0010709347693790827, 'negatives_weight': 3.9702220629253066e-07, 'top_negatives': 21}\n"
     ]
    }
   ],
   "source": [
    "search_space = {\n",
    "  \"lr\": hyperopt.hp.loguniform('lr', np.log(1e-3), np.log(1e-2)),\n",
    "  \"top_negatives\": hyperopt.hp.randint(\"top_negatives\", 10, 25),\n",
    "  \"negatives_weight\": hyperopt.hp.loguniform(\"negatives_weight\", np.log(1e-9), np.log(25)),\n",
    "}\n",
    "\n",
    "trials = hyperopt.Trials()\n",
    "best = hyperopt.fmin(\n",
    "  fn=f_neural,\n",
    "  space=search_space,\n",
    "  algo=hyperopt.tpe.suggest,\n",
    "  max_evals=250,\n",
    "  verbose=True,\n",
    "  trials=trials)\n",
    "print(best)\n"
   ]
  },
  {
   "cell_type": "code",
   "execution_count": null,
   "metadata": {},
   "outputs": [],
   "source": [
    "(0.0023010486487075356, -25.9, 26.868010719068874)                                  \n",
    "{'lr': 0.0050905177685504404, 'negatives_weight': 23.294897815416206, 'top_negatives': 21}\n",
    "95.08388856004842\n",
    "\n",
    "{'lr': 0.0010024617680657114, 'negatives_weight': 4.9775458673981656e-08, 'top_negatives': 24}\n",
    "-19.1                                                                    \n",
    "(0.010098781780592413, -19.1, 23.479565583715555)     "
   ]
  },
  {
   "cell_type": "code",
   "execution_count": null,
   "metadata": {},
   "outputs": [],
   "source": []
  }
 ],
 "metadata": {
  "kernelspec": {
   "display_name": "Python 3",
   "language": "python",
   "name": "python3"
  },
  "language_info": {
   "codemirror_mode": {
    "name": "ipython",
    "version": 3
   },
   "file_extension": ".py",
   "mimetype": "text/x-python",
   "name": "python",
   "nbconvert_exporter": "python",
   "pygments_lexer": "ipython3",
   "version": "3.9.1"
  }
 },
 "nbformat": 4,
 "nbformat_minor": 4
}
