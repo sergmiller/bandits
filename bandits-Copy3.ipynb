{
 "cells": [
  {
   "cell_type": "code",
   "execution_count": 36,
   "metadata": {},
   "outputs": [],
   "source": [
    "from importlib import reload\n",
    "import utils\n",
    "from utils import bandits, snowden, web\n",
    "reload(utils)\n",
    "reload(utils.web)\n",
    "reload(utils.bandits)\n",
    "reload(utils.snowden)\n",
    "from utils.bandits import exact_gittins\n",
    "\n",
    "from templates import neural as neural_agent\n",
    "from utils.bandits import neural_with_new_feature\n",
    "reload(neural_agent)\n",
    "\n",
    "neural_agent_class = neural_agent.NeuralAgent"
   ]
  },
  {
   "cell_type": "code",
   "execution_count": 37,
   "metadata": {},
   "outputs": [
    {
     "name": "stdout",
     "output_type": "stream",
     "text": [
      "628.0 562.0 tmp/b_0.1023009404814087.py tmp/b_0.47849842214540705.py\n",
      "549.0 545.0 tmp/b_0.1023009404814087.py tmp/b_0.47849842214540705.py\n",
      "657.0 636.0 tmp/b_0.1023009404814087.py tmp/b_0.47849842214540705.py\n",
      "676.0 647.0 tmp/b_0.1023009404814087.py tmp/b_0.47849842214540705.py\n",
      "652.0 678.0 tmp/b_0.1023009404814087.py tmp/b_0.47849842214540705.py\n",
      "653.0 647.0 tmp/b_0.1023009404814087.py tmp/b_0.47849842214540705.py\n",
      "567.0 607.0 tmp/b_0.1023009404814087.py tmp/b_0.47849842214540705.py\n",
      "627.0 596.0 tmp/b_0.1023009404814087.py tmp/b_0.47849842214540705.py\n",
      "627.0 559.0 tmp/b_0.1023009404814087.py tmp/b_0.47849842214540705.py\n",
      "617.0 653.0 tmp/b_0.1023009404814087.py tmp/b_0.47849842214540705.py\n"
     ]
    },
    {
     "data": {
      "text/plain": [
       "(0.28679420043524095,\n",
       " 12.3,\n",
       " 36.51588695348916,\n",
       " 0.7,\n",
       " 'tmp/b_0.1023009404814087.py',\n",
       " 'tmp/b_0.47849842214540705.py',\n",
       " array([628., 549., 657., 676., 652., 653., 567., 627., 627., 617.]),\n",
       " array([562., 545., 636., 647., 678., 647., 607., 596., 559., 653.]))"
      ]
     },
     "execution_count": 37,
     "metadata": {},
     "output_type": "execute_result"
    }
   ],
   "source": [
    "utils.bandits.compare(\n",
    "    utils.bandits.Agent(text=neural_with_new_feature.format(\"{}\", \"vegas\")),\n",
    "    utils.bandits.Agent(text=utils.bandits.neural),\n",
    "    verbose=True\n",
    ")"
   ]
  },
  {
   "cell_type": "code",
   "execution_count": null,
   "metadata": {},
   "outputs": [],
   "source": []
  }
 ],
 "metadata": {
  "kernelspec": {
   "display_name": "Python 3",
   "language": "python",
   "name": "python3"
  },
  "language_info": {
   "codemirror_mode": {
    "name": "ipython",
    "version": 3
   },
   "file_extension": ".py",
   "mimetype": "text/x-python",
   "name": "python",
   "nbconvert_exporter": "python",
   "pygments_lexer": "ipython3",
   "version": "3.9.1"
  }
 },
 "nbformat": 4,
 "nbformat_minor": 4
}
